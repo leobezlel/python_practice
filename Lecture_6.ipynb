{
  "nbformat": 4,
  "nbformat_minor": 0,
  "metadata": {
    "colab": {
      "provenance": [],
      "authorship_tag": "ABX9TyPHN5bRlkIDfUyIfvO+rWwc",
      "include_colab_link": true
    },
    "kernelspec": {
      "name": "python3",
      "display_name": "Python 3"
    },
    "language_info": {
      "name": "python"
    }
  },
  "cells": [
    {
      "cell_type": "markdown",
      "metadata": {
        "id": "view-in-github",
        "colab_type": "text"
      },
      "source": [
        "<a href=\"https://colab.research.google.com/github/leobezlel/excelr-assignments/blob/main/Lecture_6.ipynb\" target=\"_parent\"><img src=\"https://colab.research.google.com/assets/colab-badge.svg\" alt=\"Open In Colab\"/></a>"
      ]
    },
    {
      "cell_type": "markdown",
      "source": [
        "# Functions"
      ],
      "metadata": {
        "id": "3AgtWpU2voF2"
      }
    },
    {
      "cell_type": "code",
      "source": [
        "#function definition\n",
        "def calc_sum(a, b): #function parameters;(a, b)\n",
        "    sum = a + b\n",
        "    print(sum)\n",
        "    return sum\n",
        "calc_sum(1, 2)"
      ],
      "metadata": {
        "colab": {
          "base_uri": "https://localhost:8080/"
        },
        "id": "c5p2WmrQoK62",
        "outputId": "6539d074-1cdb-4c90-e070-d6993af25f40"
      },
      "execution_count": null,
      "outputs": [
        {
          "output_type": "stream",
          "name": "stdout",
          "text": [
            "3\n"
          ]
        },
        {
          "output_type": "execute_result",
          "data": {
            "text/plain": [
              "3"
            ]
          },
          "metadata": {},
          "execution_count": 40
        }
      ]
    },
    {
      "cell_type": "code",
      "source": [
        "def calc_sum(a, b): #parameters;(a, b)\n",
        "    return a + b\n",
        "sum = calc_sum(1, 78) #funcion call;(1,2)arguments\n",
        "print(sum)"
      ],
      "metadata": {
        "colab": {
          "base_uri": "https://localhost:8080/"
        },
        "id": "0XR8eztHoZiR",
        "outputId": "041ca424-b75b-4aa1-e75a-0fe32bf2c9a0"
      },
      "execution_count": null,
      "outputs": [
        {
          "output_type": "stream",
          "name": "stdout",
          "text": [
            "79\n"
          ]
        }
      ]
    },
    {
      "cell_type": "code",
      "source": [
        "def calc_sum(a,b,c):\n",
        "    sum = a - b * c\n",
        "    print(sum)\n",
        "    return sum\n",
        "calc_sum(10,28,56)"
      ],
      "metadata": {
        "colab": {
          "base_uri": "https://localhost:8080/"
        },
        "id": "dXsMS0ROrgC2",
        "outputId": "d360daab-1d35-4a09-88e7-7440373f4b76"
      },
      "execution_count": null,
      "outputs": [
        {
          "output_type": "stream",
          "name": "stdout",
          "text": [
            "-1558\n"
          ]
        },
        {
          "output_type": "execute_result",
          "data": {
            "text/plain": [
              "-1558"
            ]
          },
          "metadata": {},
          "execution_count": 20
        }
      ]
    },
    {
      "cell_type": "code",
      "source": [
        "def print_hello():\n",
        "    print(\"hello\")\n",
        "    print(\"world\")\n",
        "print_hello()\n",
        "print_hello()\n",
        "print_hello()\n",
        "print_hello()\n",
        "print_hello()\n"
      ],
      "metadata": {
        "colab": {
          "base_uri": "https://localhost:8080/"
        },
        "id": "N7t-Dmnfr_M0",
        "outputId": "a6d8d7bd-ee2f-41fd-e2a2-91e7f887603b"
      },
      "execution_count": null,
      "outputs": [
        {
          "output_type": "stream",
          "name": "stdout",
          "text": [
            "hello\n",
            "world\n",
            "hello\n",
            "world\n",
            "hello\n",
            "world\n",
            "hello\n",
            "world\n",
            "hello\n",
            "world\n"
          ]
        }
      ]
    },
    {
      "cell_type": "code",
      "source": [
        "def calc_avg(a, b, c):\n",
        "    sum = a+b+c\n",
        "    avg = sum/3\n",
        "    print(avg)\n",
        "    return avg\n",
        "calc_avg(10, 15, 67)"
      ],
      "metadata": {
        "colab": {
          "base_uri": "https://localhost:8080/"
        },
        "id": "2F4tC1gFvSRz",
        "outputId": "30a65206-f67b-4e64-9842-5cba40a6e1e4"
      },
      "execution_count": null,
      "outputs": [
        {
          "output_type": "stream",
          "name": "stdout",
          "text": [
            "30.666666666666668\n"
          ]
        },
        {
          "output_type": "execute_result",
          "data": {
            "text/plain": [
              "30.666666666666668"
            ]
          },
          "metadata": {},
          "execution_count": 26
        }
      ]
    },
    {
      "cell_type": "code",
      "source": [
        "def calc_mul(a, b):\n",
        "    mul = a * b\n",
        "    print(mul)\n",
        "    return mul\n",
        "calc_mul(10,46)"
      ],
      "metadata": {
        "colab": {
          "base_uri": "https://localhost:8080/"
        },
        "id": "D95RAhHFws69",
        "outputId": "9efc217c-db05-470c-bdb4-64fe0c00d051"
      },
      "execution_count": null,
      "outputs": [
        {
          "output_type": "stream",
          "name": "stdout",
          "text": [
            "460\n"
          ]
        },
        {
          "output_type": "execute_result",
          "data": {
            "text/plain": [
              "460"
            ]
          },
          "metadata": {},
          "execution_count": 36
        }
      ]
    },
    {
      "cell_type": "code",
      "source": [
        "def calc_mul(a,b):\n",
        "    return a*b\n",
        "mul = calc_mul(10,45)\n",
        "print(mul)"
      ],
      "metadata": {
        "colab": {
          "base_uri": "https://localhost:8080/"
        },
        "id": "RKIkK_3eyr2M",
        "outputId": "582756a0-ddb4-4cbb-b5e9-9676bb295210"
      },
      "execution_count": null,
      "outputs": [
        {
          "output_type": "stream",
          "name": "stdout",
          "text": [
            "450\n"
          ]
        }
      ]
    },
    {
      "cell_type": "markdown",
      "source": [
        "# Practice questions"
      ],
      "metadata": {
        "id": "F8M3I-9fzi1N"
      }
    },
    {
      "cell_type": "code",
      "source": [
        "#1)WAP to print the length of a list.(list is the parameter)\n",
        "cities = [\"hyderabad\",\"chennai\",\"banglore\",\"mumbai\"]\n",
        "def len_list(cities):\n",
        "    print(len(cities))\n",
        "len_list(cities)"
      ],
      "metadata": {
        "colab": {
          "base_uri": "https://localhost:8080/"
        },
        "id": "VdQcN7Z9y555",
        "outputId": "bb527ee3-0637-4810-9f37-3bc62bf82e2d"
      },
      "execution_count": null,
      "outputs": [
        {
          "output_type": "stream",
          "name": "stdout",
          "text": [
            "4\n"
          ]
        }
      ]
    },
    {
      "cell_type": "code",
      "source": [
        "#2)WAP to print the elements of a list in a single line.(list is parameter)\n",
        "anime_series = [\"dragon ball\",\"one piece\",\"naruto\",\"bleach\"]\n",
        "places = [\"tokyo\",\"roppangi\",\"hosu\",\"kyoto\"]\n",
        "def print_list(list):\n",
        "    print(anime_series, end = \"\")\n",
        "    print(places)\n",
        "print_list(list)"
      ],
      "metadata": {
        "colab": {
          "base_uri": "https://localhost:8080/"
        },
        "id": "OUaXt3d10qKW",
        "outputId": "cbb42c0f-60c9-4545-db62-7ef6f952b990"
      },
      "execution_count": null,
      "outputs": [
        {
          "output_type": "stream",
          "name": "stdout",
          "text": [
            "['dragon ball', 'one piece', 'naruto', 'bleach']['tokyo', 'roppangi', 'hosu', 'kyoto']\n"
          ]
        }
      ]
    },
    {
      "cell_type": "code",
      "source": [
        "#3)WAP to find the factorial of n. (n is parameter)\n",
        "n = 5\n",
        "i = 1\n",
        "def factorial(n):\n",
        "    fact = 1\n",
        "    for i in range(1,n+1):\n",
        "        fact *=i\n",
        "    print(fact)\n",
        "factorial(n)"
      ],
      "metadata": {
        "colab": {
          "base_uri": "https://localhost:8080/"
        },
        "id": "JFro-8Ye1Xxl",
        "outputId": "f805610e-56f6-4e26-d435-3ec226f664eb"
      },
      "execution_count": null,
      "outputs": [
        {
          "output_type": "stream",
          "name": "stdout",
          "text": [
            "120\n"
          ]
        }
      ]
    },
    {
      "cell_type": "code",
      "source": [
        "#4)WAP to convert USD to INR\n",
        "def usd_to_inr(usd):\n",
        "  inr = usd * 83\n",
        "  print(inr)\n",
        "  return inr\n",
        "usd_to_inr(6)"
      ],
      "metadata": {
        "colab": {
          "base_uri": "https://localhost:8080/"
        },
        "id": "PY55gGN34RZF",
        "outputId": "1cfec7b8-7e5f-4280-bfb5-c6e194cd740b"
      },
      "execution_count": null,
      "outputs": [
        {
          "output_type": "stream",
          "name": "stdout",
          "text": [
            "498\n"
          ]
        },
        {
          "output_type": "execute_result",
          "data": {
            "text/plain": [
              "498"
            ]
          },
          "metadata": {},
          "execution_count": 57
        }
      ]
    },
    {
      "cell_type": "code",
      "source": [
        "def usd_to_inr(usd):\n",
        "    return usd * 83\n",
        "cal = usd_to_inr(6)\n",
        "print(cal)"
      ],
      "metadata": {
        "colab": {
          "base_uri": "https://localhost:8080/"
        },
        "id": "Hv9OZTbj5jHL",
        "outputId": "f856340b-4396-43c3-9199-0c97d331b1cc"
      },
      "execution_count": null,
      "outputs": [
        {
          "output_type": "stream",
          "name": "stdout",
          "text": [
            "498\n"
          ]
        }
      ]
    },
    {
      "cell_type": "markdown",
      "source": [
        "# Recursion"
      ],
      "metadata": {
        "id": "NMHtH_jz6jcd"
      }
    },
    {
      "cell_type": "code",
      "source": [
        "def show(n):\n",
        "    print(n)\n",
        "show(5)"
      ],
      "metadata": {
        "colab": {
          "base_uri": "https://localhost:8080/"
        },
        "id": "rI6k4UO8G1GB",
        "outputId": "4acc37e0-c0ff-48b3-96ee-0232c9e2b33c"
      },
      "execution_count": null,
      "outputs": [
        {
          "output_type": "stream",
          "name": "stdout",
          "text": [
            "5\n"
          ]
        }
      ]
    },
    {
      "cell_type": "code",
      "source": [
        "def show(n):\n",
        "    if n >= 1:\n",
        "        print(n)\n",
        "        show(n-1)\n",
        "show(5)"
      ],
      "metadata": {
        "colab": {
          "base_uri": "https://localhost:8080/"
        },
        "id": "khVfzgYyK_On",
        "outputId": "808711bc-87c8-4d4d-dbf7-09329d18e0bb"
      },
      "execution_count": 19,
      "outputs": [
        {
          "output_type": "stream",
          "name": "stdout",
          "text": [
            "5\n",
            "4\n",
            "3\n",
            "2\n",
            "1\n"
          ]
        }
      ]
    },
    {
      "cell_type": "code",
      "source": [
        "#Recursive function\n",
        "def show(n):\n",
        "    if n == 0:\n",
        "        return\n",
        "    print(n)\n",
        "    show(n-1)\n",
        "show(5)"
      ],
      "metadata": {
        "colab": {
          "base_uri": "https://localhost:8080/"
        },
        "id": "QPQ_ZxxTLhpy",
        "outputId": "1b780fe6-1805-4c18-9b3d-a337f3bd45cc"
      },
      "execution_count": 25,
      "outputs": [
        {
          "output_type": "stream",
          "name": "stdout",
          "text": [
            "5\n",
            "4\n",
            "3\n",
            "2\n",
            "1\n"
          ]
        }
      ]
    },
    {
      "cell_type": "code",
      "source": [
        "def show(n):\n",
        "    if n == 0:\n",
        "        return\n",
        "    show(n-1)\n",
        "    print(n)\n",
        "show(5)"
      ],
      "metadata": {
        "colab": {
          "base_uri": "https://localhost:8080/"
        },
        "id": "nRfWelITLtAE",
        "outputId": "6d45ccb3-5c3f-4da3-e73d-009b1c01f859"
      },
      "execution_count": 20,
      "outputs": [
        {
          "output_type": "stream",
          "name": "stdout",
          "text": [
            "1\n",
            "2\n",
            "3\n",
            "4\n",
            "5\n"
          ]
        }
      ]
    },
    {
      "cell_type": "code",
      "source": [
        "def show(n):\n",
        "    if n < 0:\n",
        "        return\n",
        "    show(n-1)\n",
        "    print(n)\n",
        "show(5)"
      ],
      "metadata": {
        "colab": {
          "base_uri": "https://localhost:8080/"
        },
        "id": "2h-c1bk2NR9_",
        "outputId": "0da74562-24e5-4e67-d242-b873c756c9d0"
      },
      "execution_count": 21,
      "outputs": [
        {
          "output_type": "stream",
          "name": "stdout",
          "text": [
            "0\n",
            "1\n",
            "2\n",
            "3\n",
            "4\n",
            "5\n"
          ]
        }
      ]
    },
    {
      "cell_type": "code",
      "source": [
        "def fact(n):\n",
        "    if (n ==0 or n ==1):\n",
        "        return 1\n",
        "    return fact(n-1)*n\n",
        "fact(5)"
      ],
      "metadata": {
        "colab": {
          "base_uri": "https://localhost:8080/"
        },
        "id": "CP3QuVPIP4zO",
        "outputId": "3ead1e36-a748-4707-e11b-1a030a09f06b"
      },
      "execution_count": 35,
      "outputs": [
        {
          "output_type": "execute_result",
          "data": {
            "text/plain": [
              "120"
            ]
          },
          "metadata": {},
          "execution_count": 35
        }
      ]
    },
    {
      "cell_type": "markdown",
      "source": [
        "# Practice questions"
      ],
      "metadata": {
        "id": "3Mh3zMnIRm-t"
      }
    },
    {
      "cell_type": "code",
      "source": [
        "#1)write a recursive function to calculate the sum of first n natural numbers.\n",
        "def cal_sum(n):\n",
        "    if n == 0:\n",
        "        return 0\n",
        "    return cal_sum(n-1) + n\n",
        "\n",
        "sum = cal_sum(5)\n",
        "print(sum)\n"
      ],
      "metadata": {
        "colab": {
          "base_uri": "https://localhost:8080/"
        },
        "id": "dnTh1pf3Quhi",
        "outputId": "95e01d4e-fa27-4a0c-d2d9-0972894169e3"
      },
      "execution_count": 42,
      "outputs": [
        {
          "output_type": "stream",
          "name": "stdout",
          "text": [
            "15\n"
          ]
        }
      ]
    },
    {
      "cell_type": "code",
      "source": [
        "#2)write a recursive function to print all elements in a list.\n",
        "#hint: use ist & index as paramenters\n",
        "def print_list(list,idx):\n",
        "    if idx == len(list):\n",
        "        return\n",
        "    print(list[idx])\n",
        "    print_list(list,idx+1)\n",
        "\n",
        "list = [\"a\",\"b\",\"c\",\"d\"]\n",
        "print_list(list,0)"
      ],
      "metadata": {
        "colab": {
          "base_uri": "https://localhost:8080/"
        },
        "id": "9NVbi1SCR7OW",
        "outputId": "6e769f5e-1101-4158-81aa-d34c4b9891b0"
      },
      "execution_count": 45,
      "outputs": [
        {
          "output_type": "stream",
          "name": "stdout",
          "text": [
            "a\n",
            "b\n",
            "c\n",
            "d\n"
          ]
        }
      ]
    },
    {
      "cell_type": "code",
      "source": [],
      "metadata": {
        "id": "d2clGBPPU6m1"
      },
      "execution_count": null,
      "outputs": []
    }
  ]
}