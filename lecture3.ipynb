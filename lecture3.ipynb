{
  "nbformat": 4,
  "nbformat_minor": 0,
  "metadata": {
    "colab": {
      "provenance": [],
      "authorship_tag": "ABX9TyP2qlKzUHYlh0nb2gwlI7Pn",
      "include_colab_link": true
    },
    "kernelspec": {
      "name": "python3",
      "display_name": "Python 3"
    },
    "language_info": {
      "name": "python"
    }
  },
  "cells": [
    {
      "cell_type": "markdown",
      "metadata": {
        "id": "view-in-github",
        "colab_type": "text"
      },
      "source": [
        "<a href=\"https://colab.research.google.com/github/leobezlel/excelr-assignments/blob/main/lecture3.ipynb\" target=\"_parent\"><img src=\"https://colab.research.google.com/assets/colab-badge.svg\" alt=\"Open In Colab\"/></a>"
      ]
    },
    {
      "cell_type": "markdown",
      "source": [
        "# lists in python"
      ],
      "metadata": {
        "id": "46LdLtNN7VTA"
      }
    },
    {
      "cell_type": "code",
      "execution_count": 11,
      "metadata": {
        "colab": {
          "base_uri": "https://localhost:8080/"
        },
        "id": "W9BWC5lsz-lz",
        "outputId": "607c039e-aa8e-4169-adec-b685fe97e10d"
      },
      "outputs": [
        {
          "output_type": "stream",
          "name": "stdout",
          "text": [
            "<class 'list'>\n"
          ]
        }
      ],
      "source": [
        "marks=[89.94, 90.0, 91.2, 86.90, 98.2]\n",
        "print(type(marks))"
      ]
    },
    {
      "cell_type": "code",
      "source": [
        "print(len(marks))"
      ],
      "metadata": {
        "colab": {
          "base_uri": "https://localhost:8080/"
        },
        "id": "QcVU5NRX5beQ",
        "outputId": "6cdfcec1-b112-404c-8139-daa0a897a7f5"
      },
      "execution_count": 5,
      "outputs": [
        {
          "output_type": "stream",
          "name": "stdout",
          "text": [
            "5\n"
          ]
        }
      ]
    },
    {
      "cell_type": "code",
      "source": [
        "print(marks[2])"
      ],
      "metadata": {
        "colab": {
          "base_uri": "https://localhost:8080/"
        },
        "id": "lrYaC4ID5imI",
        "outputId": "78934cd3-a661-4674-f4f8-974103b47c53"
      },
      "execution_count": 6,
      "outputs": [
        {
          "output_type": "stream",
          "name": "stdout",
          "text": [
            "91.2\n"
          ]
        }
      ]
    },
    {
      "cell_type": "code",
      "source": [
        "print(marks[4])"
      ],
      "metadata": {
        "colab": {
          "base_uri": "https://localhost:8080/"
        },
        "id": "T-UBLaSY53XT",
        "outputId": "973edb1c-05a1-4ace-c0b3-1ea83b58e47d"
      },
      "execution_count": 8,
      "outputs": [
        {
          "output_type": "stream",
          "name": "stdout",
          "text": [
            "98.2\n"
          ]
        }
      ]
    },
    {
      "cell_type": "code",
      "source": [
        "student = [\"leo\", 22, \"telangana\"]\n",
        "print(student)"
      ],
      "metadata": {
        "colab": {
          "base_uri": "https://localhost:8080/"
        },
        "id": "eUlacz2Q57jE",
        "outputId": "36c7ebcc-9f3d-4ef4-8274-312a18ad247c"
      },
      "execution_count": 9,
      "outputs": [
        {
          "output_type": "stream",
          "name": "stdout",
          "text": [
            "['leo', 22, 'telangana']\n"
          ]
        }
      ]
    },
    {
      "cell_type": "code",
      "source": [
        "student[0] = \"bezlel\"\n",
        "print(student)"
      ],
      "metadata": {
        "colab": {
          "base_uri": "https://localhost:8080/"
        },
        "id": "B5Twagby7DSm",
        "outputId": "22d641a2-f0e5-4a0a-a88b-12972a574267"
      },
      "execution_count": 10,
      "outputs": [
        {
          "output_type": "stream",
          "name": "stdout",
          "text": [
            "['bezlel', 22, 'telangana']\n"
          ]
        }
      ]
    },
    {
      "cell_type": "code",
      "source": [
        "print(type(student))"
      ],
      "metadata": {
        "colab": {
          "base_uri": "https://localhost:8080/"
        },
        "id": "cURVhtc-7L4t",
        "outputId": "2413a224-ec0b-450a-cafb-30ccb6c9a0e6"
      },
      "execution_count": 11,
      "outputs": [
        {
          "output_type": "stream",
          "name": "stdout",
          "text": [
            "<class 'list'>\n"
          ]
        }
      ]
    },
    {
      "cell_type": "code",
      "source": [
        "print(len(student))"
      ],
      "metadata": {
        "colab": {
          "base_uri": "https://localhost:8080/"
        },
        "id": "gCKx7yap7PmC",
        "outputId": "6ab6d017-756b-4ef5-83c0-73059a5457f2"
      },
      "execution_count": 12,
      "outputs": [
        {
          "output_type": "stream",
          "name": "stdout",
          "text": [
            "3\n"
          ]
        }
      ]
    },
    {
      "cell_type": "markdown",
      "source": [
        "# list methods"
      ],
      "metadata": {
        "id": "GBGKQ8JP9twX"
      }
    },
    {
      "cell_type": "code",
      "source": [
        "list = [2,5,8]\n",
        "list.append(6) #adds one element at the end\n",
        "print(list)"
      ],
      "metadata": {
        "colab": {
          "base_uri": "https://localhost:8080/"
        },
        "id": "uXo5h1Uu7mIm",
        "outputId": "41ad3a05-55e5-47ab-a61f-081e16ca04e5"
      },
      "execution_count": 16,
      "outputs": [
        {
          "output_type": "stream",
          "name": "stdout",
          "text": [
            "[2, 5, 8, 6]\n"
          ]
        }
      ]
    },
    {
      "cell_type": "code",
      "source": [
        "list.sort() #sorts in ascending order\n",
        "print(list)"
      ],
      "metadata": {
        "colab": {
          "base_uri": "https://localhost:8080/"
        },
        "id": "DtUpT_bJ92Oi",
        "outputId": "140e39eb-b2b7-449f-ab78-b0ae7822215c"
      },
      "execution_count": 17,
      "outputs": [
        {
          "output_type": "stream",
          "name": "stdout",
          "text": [
            "[2, 5, 6, 8]\n"
          ]
        }
      ]
    },
    {
      "cell_type": "code",
      "source": [
        "list.sort(reverse = True) #sorts in descending order\n",
        "print(list)"
      ],
      "metadata": {
        "colab": {
          "base_uri": "https://localhost:8080/"
        },
        "id": "0JOupbBr-C12",
        "outputId": "1a585b3d-25ad-4a3d-a7be-5aa27896363b"
      },
      "execution_count": 18,
      "outputs": [
        {
          "output_type": "stream",
          "name": "stdout",
          "text": [
            "[8, 6, 5, 2]\n"
          ]
        }
      ]
    },
    {
      "cell_type": "code",
      "source": [
        "list = [2,5,8,6]\n",
        "list.reverse() #reverses list\n",
        "print(list)"
      ],
      "metadata": {
        "colab": {
          "base_uri": "https://localhost:8080/"
        },
        "id": "twa-KhYY-PBa",
        "outputId": "7d958acf-d9ba-4f2d-a9a8-1cb88550f6a3"
      },
      "execution_count": 1,
      "outputs": [
        {
          "output_type": "stream",
          "name": "stdout",
          "text": [
            "[6, 8, 5, 2]\n"
          ]
        }
      ]
    },
    {
      "cell_type": "code",
      "source": [
        "list = [2,5,8,6]\n",
        "list.insert(1,3) #insert element at index"
      ],
      "metadata": {
        "id": "Jz7JXxUv-X2_"
      },
      "execution_count": 2,
      "outputs": []
    },
    {
      "cell_type": "code",
      "source": [
        "print(list)"
      ],
      "metadata": {
        "colab": {
          "base_uri": "https://localhost:8080/"
        },
        "id": "ZCtYBzwLUN8J",
        "outputId": "87c8ae02-b390-4b41-b5f2-f74e5ef93391"
      },
      "execution_count": 3,
      "outputs": [
        {
          "output_type": "stream",
          "name": "stdout",
          "text": [
            "[2, 3, 5, 8, 6]\n"
          ]
        }
      ]
    },
    {
      "cell_type": "code",
      "source": [
        "list = [2,5,2,8,2]\n",
        "list.remove(2) #removes first occurence of element\n",
        "print(list)"
      ],
      "metadata": {
        "colab": {
          "base_uri": "https://localhost:8080/"
        },
        "id": "Jr2rz6wmUcUD",
        "outputId": "ce134b65-bebd-4386-a592-ecfffaeef83b"
      },
      "execution_count": 8,
      "outputs": [
        {
          "output_type": "stream",
          "name": "stdout",
          "text": [
            "[5, 2, 8, 2]\n"
          ]
        }
      ]
    },
    {
      "cell_type": "code",
      "source": [
        "list = [2,5,2,8,2]\n",
        "list.pop(2) #removees element at index\n",
        "print(list)"
      ],
      "metadata": {
        "colab": {
          "base_uri": "https://localhost:8080/"
        },
        "id": "2tnyw9UYVN5Y",
        "outputId": "b1a1caef-f505-49a8-df2a-61c76ddc1825"
      },
      "execution_count": 9,
      "outputs": [
        {
          "output_type": "stream",
          "name": "stdout",
          "text": [
            "[2, 5, 8, 2]\n"
          ]
        }
      ]
    },
    {
      "cell_type": "markdown",
      "source": [
        "# Tuples in python"
      ],
      "metadata": {
        "id": "nt3DtaP7W8XM"
      }
    },
    {
      "cell_type": "code",
      "source": [
        "tup = (2,5,2,8,2,)\n",
        "print(type(tup))"
      ],
      "metadata": {
        "colab": {
          "base_uri": "https://localhost:8080/"
        },
        "id": "qKA7_YETV7wt",
        "outputId": "298e1367-a717-4bd3-e252-546515aa0f18"
      },
      "execution_count": 22,
      "outputs": [
        {
          "output_type": "stream",
          "name": "stdout",
          "text": [
            "<class 'tuple'>\n"
          ]
        }
      ]
    },
    {
      "cell_type": "code",
      "source": [
        "print(len(tup))"
      ],
      "metadata": {
        "colab": {
          "base_uri": "https://localhost:8080/"
        },
        "id": "ykGTpiBTYFwn",
        "outputId": "4d9cc428-cfd1-4fb9-aba1-f3746b31a508"
      },
      "execution_count": 12,
      "outputs": [
        {
          "output_type": "stream",
          "name": "stdout",
          "text": [
            "5\n"
          ]
        }
      ]
    },
    {
      "cell_type": "code",
      "source": [
        "print(tup[3])"
      ],
      "metadata": {
        "colab": {
          "base_uri": "https://localhost:8080/"
        },
        "id": "dALb6DGGYZOF",
        "outputId": "767d5464-66da-428e-c882-85d8b063a53b"
      },
      "execution_count": 13,
      "outputs": [
        {
          "output_type": "stream",
          "name": "stdout",
          "text": [
            "8\n"
          ]
        }
      ]
    },
    {
      "cell_type": "code",
      "source": [
        "tup = (1,) #(,) is compulsory to identify as a tuple\n",
        "print(tup)\n",
        "print(type(tup))\n"
      ],
      "metadata": {
        "colab": {
          "base_uri": "https://localhost:8080/"
        },
        "id": "ImTdVGGlY0_z",
        "outputId": "24d53700-59ea-426a-93ca-d68ec4123f7e"
      },
      "execution_count": 21,
      "outputs": [
        {
          "output_type": "stream",
          "name": "stdout",
          "text": [
            "(1,)\n",
            "<class 'tuple'>\n"
          ]
        }
      ]
    },
    {
      "cell_type": "code",
      "source": [
        "tuple = [2,5,8,2,8,8,2,5]\n",
        "tuple.index(8) #returns index of first occurence\n",
        "print(tuple.index(8))"
      ],
      "metadata": {
        "colab": {
          "base_uri": "https://localhost:8080/"
        },
        "id": "EhkVYhVMZKVw",
        "outputId": "770058ca-b844-4fa7-e6ba-ce39fab06c33"
      },
      "execution_count": 34,
      "outputs": [
        {
          "output_type": "stream",
          "name": "stdout",
          "text": [
            "2\n"
          ]
        }
      ]
    },
    {
      "cell_type": "code",
      "source": [
        "tuple = [2,5,2,8,2]\n",
        "print(tuple.count(5)) #counts no.of times occures"
      ],
      "metadata": {
        "colab": {
          "base_uri": "https://localhost:8080/"
        },
        "id": "Ou_iqHFua6rS",
        "outputId": "3e8b368e-4c9d-4f6e-fd1f-87c7c7c599d2"
      },
      "execution_count": 30,
      "outputs": [
        {
          "output_type": "stream",
          "name": "stdout",
          "text": [
            "1\n"
          ]
        }
      ]
    },
    {
      "cell_type": "markdown",
      "source": [
        "# Practice questions"
      ],
      "metadata": {
        "id": "4D9X7eOec91T"
      }
    },
    {
      "cell_type": "markdown",
      "source": [
        "# Q1)"
      ],
      "metadata": {
        "id": "skZZ-u6zdA8j"
      }
    },
    {
      "cell_type": "code",
      "source": [
        "#write a program to ask the user to enter names of their 3 favorite movies & store them in a list\n",
        "movies = []\n",
        "movie1 = input(\"enter first movie:\")\n",
        "movie2 = input(\"enter second movie:\")\n",
        "movie3 = input(\"enter third movie:\")"
      ],
      "metadata": {
        "colab": {
          "base_uri": "https://localhost:8080/"
        },
        "id": "dVUDOHMxbyTB",
        "outputId": "b1116ded-daad-4feb-99d6-b0994eeda5a2"
      },
      "execution_count": 46,
      "outputs": [
        {
          "name": "stdout",
          "output_type": "stream",
          "text": [
            "enter first movie:onepiece\n",
            "enter second movie:naruto\n",
            "enter third movie:dragonball\n"
          ]
        }
      ]
    },
    {
      "cell_type": "code",
      "source": [
        "movies.append(movie1)\n",
        "movies.append(movie2)\n",
        "movies.append(movie3)\n",
        "\n",
        "print(movies)"
      ],
      "metadata": {
        "colab": {
          "base_uri": "https://localhost:8080/"
        },
        "id": "9tmfrTqXdrWi",
        "outputId": "bd62e882-7ba0-4bf9-8875-7c6da6da4961"
      },
      "execution_count": 47,
      "outputs": [
        {
          "output_type": "stream",
          "name": "stdout",
          "text": [
            "['onepiece', 'naruto', 'dragonball']\n"
          ]
        }
      ]
    },
    {
      "cell_type": "code",
      "source": [
        "#Alternative code\n",
        "movies = []\n",
        "movies.append(input(\"enter first movie:\"))\n",
        "movies.append(input(\"enter second movie:\"))\n",
        "movies.append(input(\"enter third movie\"))"
      ],
      "metadata": {
        "colab": {
          "base_uri": "https://localhost:8080/"
        },
        "id": "fyS6Oz7bhGHR",
        "outputId": "e4962096-98a5-4efe-b0ea-abaf43184aa7"
      },
      "execution_count": 48,
      "outputs": [
        {
          "name": "stdout",
          "output_type": "stream",
          "text": [
            "enter first movie:one piece\n",
            "enter second movie:naruto\n",
            "enter third moviedragon ball\n"
          ]
        }
      ]
    },
    {
      "cell_type": "code",
      "source": [
        "print(movies)"
      ],
      "metadata": {
        "colab": {
          "base_uri": "https://localhost:8080/"
        },
        "id": "RmlJjh5lhayR",
        "outputId": "0472a33b-89c9-4efd-b25f-97cfb33b4d5d"
      },
      "execution_count": 49,
      "outputs": [
        {
          "output_type": "stream",
          "name": "stdout",
          "text": [
            "['one piece', 'naruto', 'dragon ball']\n"
          ]
        }
      ]
    },
    {
      "cell_type": "markdown",
      "source": [
        "# Q2)"
      ],
      "metadata": {
        "id": "zUlIHEffhzyf"
      }
    },
    {
      "cell_type": "code",
      "source": [
        "#write a program to check if a list contains a palindrome of elements. (hint: use copy() method).\n",
        "#[panlidrome = ex:-'maam', 'racecar']\n",
        "list =[1,2,3,2,1]\n",
        "copylist = list.copy()\n",
        "copylist.reverse()\n",
        "\n"
      ],
      "metadata": {
        "id": "XAo4ZdFshfC-"
      },
      "execution_count": 71,
      "outputs": []
    },
    {
      "cell_type": "code",
      "source": [
        "if(copylist == list):\n",
        "   print(\"palindrome\")\n",
        "else:\n",
        "    print(\"not palindrome\")"
      ],
      "metadata": {
        "colab": {
          "base_uri": "https://localhost:8080/"
        },
        "id": "V27ceACil8sA",
        "outputId": "defe0f1d-7188-4ac2-b8c3-cc10f3eb769b"
      },
      "execution_count": 72,
      "outputs": [
        {
          "output_type": "stream",
          "name": "stdout",
          "text": [
            "palindrome\n"
          ]
        }
      ]
    },
    {
      "cell_type": "markdown",
      "source": [
        "# Q3)"
      ],
      "metadata": {
        "id": "vNbUANPInIiq"
      }
    },
    {
      "cell_type": "code",
      "source": [
        "#WAP to count the no.of students with the \"A\"grade in the following tuple\n",
        "\n",
        "tuple =[\"C\",\"D\",\"A\",\"A\",\"B\",\"B\",\"A\",]\n",
        "print(tuple.count(\"A\"))\n"
      ],
      "metadata": {
        "colab": {
          "base_uri": "https://localhost:8080/"
        },
        "id": "zcGUTuzPmT1T",
        "outputId": "ae4c5fc8-dfc6-4a55-d688-6a0f1a76fc6b"
      },
      "execution_count": 77,
      "outputs": [
        {
          "output_type": "stream",
          "name": "stdout",
          "text": [
            "3\n"
          ]
        }
      ]
    },
    {
      "cell_type": "markdown",
      "source": [
        "# Q4)"
      ],
      "metadata": {
        "id": "WmUYN9QSn30M"
      }
    },
    {
      "cell_type": "code",
      "source": [
        "#store the above values in a list and sort them from \"A\" to \"D\"\n",
        "list =[\"C\",\"D\",\"A\",\"A\",\"B\",\"B\",\"A\"]\n",
        "list.sort()\n",
        "print(list)"
      ],
      "metadata": {
        "colab": {
          "base_uri": "https://localhost:8080/"
        },
        "id": "k5GuBHHSnwJo",
        "outputId": "f5efe251-9c52-4ea6-87a6-149e8845a8dc"
      },
      "execution_count": 82,
      "outputs": [
        {
          "output_type": "stream",
          "name": "stdout",
          "text": [
            "['A', 'A', 'A', 'B', 'B', 'C', 'D']\n"
          ]
        }
      ]
    },
    {
      "cell_type": "code",
      "source": [],
      "metadata": {
        "id": "jE7c-g2ToVQZ"
      },
      "execution_count": null,
      "outputs": []
    }
  ]
}