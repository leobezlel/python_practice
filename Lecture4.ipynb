{
  "nbformat": 4,
  "nbformat_minor": 0,
  "metadata": {
    "colab": {
      "provenance": [],
      "authorship_tag": "ABX9TyOuSOYCt7xoOAG53SI9soCO",
      "include_colab_link": true
    },
    "kernelspec": {
      "name": "python3",
      "display_name": "Python 3"
    },
    "language_info": {
      "name": "python"
    }
  },
  "cells": [
    {
      "cell_type": "markdown",
      "metadata": {
        "id": "view-in-github",
        "colab_type": "text"
      },
      "source": [
        "<a href=\"https://colab.research.google.com/github/leobezlel/excelr-assignments/blob/main/Lecture4.ipynb\" target=\"_parent\"><img src=\"https://colab.research.google.com/assets/colab-badge.svg\" alt=\"Open In Colab\"/></a>"
      ]
    },
    {
      "cell_type": "markdown",
      "source": [
        "# Dictionary in python"
      ],
      "metadata": {
        "id": "MsLrUhsIQYd7"
      }
    },
    {
      "cell_type": "code",
      "source": [
        "info = {\n",
        "    \"name\" : \"leo\",\n",
        "    \"learning\" : \"python\",\n",
        "    \"age\" : 22,\n",
        "    \"is adult\" : True,\n",
        "    \"grade\" : 76.42,\n",
        "}\n",
        "\n",
        "print(info)"
      ],
      "metadata": {
        "colab": {
          "base_uri": "https://localhost:8080/"
        },
        "id": "jsBy6LPiPh3P",
        "outputId": "3be46247-971a-41c0-9059-56ef16a38ab3"
      },
      "execution_count": 43,
      "outputs": [
        {
          "output_type": "stream",
          "name": "stdout",
          "text": [
            "{'name': 'leo', 'learning': 'python', 'age': 22, 'is adult': True, 'grade': 76.42}\n"
          ]
        }
      ]
    },
    {
      "cell_type": "code",
      "source": [
        "info = {\n",
        "    \"name\" : \"leo\",\n",
        "    \"learning\" : [\"python\", \"java\", \"c++\"],\n",
        "    \"age\" : 22,\n",
        "    \"is adult\" : True,\n",
        "    \"grade\" : 76.42\n",
        "}\n",
        "info[\"name\"] = \"bezlel\" #we can change accordingly also known as Overwrite\n",
        "print(info)\n",
        "print(type(info))"
      ],
      "metadata": {
        "colab": {
          "base_uri": "https://localhost:8080/"
        },
        "id": "BZepYnarQRL8",
        "outputId": "42e43946-b366-45e0-c60a-81b27b71b6a4"
      },
      "execution_count": 44,
      "outputs": [
        {
          "output_type": "stream",
          "name": "stdout",
          "text": [
            "{'name': 'bezlel', 'learning': ['python', 'java', 'c++'], 'age': 22, 'is adult': True, 'grade': 76.42}\n",
            "<class 'dict'>\n"
          ]
        }
      ]
    },
    {
      "cell_type": "code",
      "source": [
        "#nested dictionary\n",
        "student = {\n",
        "      \"name\": \"leo\",\n",
        "       \"marks_scored\" : {\"math\" : 95.0,\n",
        "                         \"phy\" : 92,\n",
        "                         \"chem\" : 87\n",
        "                     },\n",
        "}\n",
        "print(student)"
      ],
      "metadata": {
        "colab": {
          "base_uri": "https://localhost:8080/"
        },
        "id": "aMPmZSTBRFvN",
        "outputId": "cbd8c67e-2816-49cf-f219-8cbcf40ed380"
      },
      "execution_count": 45,
      "outputs": [
        {
          "output_type": "stream",
          "name": "stdout",
          "text": [
            "{'name': 'leo', 'marks_scored': {'math': 95.0, 'phy': 92, 'chem': 87}}\n"
          ]
        }
      ]
    },
    {
      "cell_type": "code",
      "source": [
        "print(student[\"marks_scored\"][\"phy\"])"
      ],
      "metadata": {
        "colab": {
          "base_uri": "https://localhost:8080/"
        },
        "id": "JMzOPtGvWoga",
        "outputId": "bfb6b0e7-84f8-42bc-9705-9accfb32fd99"
      },
      "execution_count": 46,
      "outputs": [
        {
          "output_type": "stream",
          "name": "stdout",
          "text": [
            "92\n"
          ]
        }
      ]
    },
    {
      "cell_type": "markdown",
      "source": [
        "# Dictionary methods"
      ],
      "metadata": {
        "id": "c925339sXkWX"
      }
    },
    {
      "cell_type": "code",
      "source": [
        "info = {\n",
        "    \"name\" : \"leo\",\n",
        "    \"learning\" : \"python\",\n",
        "    \"age\" : 22,\n",
        "    \"is adult\" : True,\n",
        "    \"grade\" : 76.42,\n",
        "}\n",
        "\n",
        "print(info.keys()) #return all keys"
      ],
      "metadata": {
        "colab": {
          "base_uri": "https://localhost:8080/"
        },
        "id": "c39mk1HIXJRU",
        "outputId": "aa7930bb-953d-4786-e9ae-cf6d76a57b7a"
      },
      "execution_count": 47,
      "outputs": [
        {
          "output_type": "stream",
          "name": "stdout",
          "text": [
            "dict_keys(['name', 'learning', 'age', 'is adult', 'grade'])\n"
          ]
        }
      ]
    },
    {
      "cell_type": "code",
      "source": [
        "print(info.values()) #return all values"
      ],
      "metadata": {
        "colab": {
          "base_uri": "https://localhost:8080/"
        },
        "id": "qGmlXowKZdg2",
        "outputId": "9948d817-82a4-494f-f607-2d8be4b87148"
      },
      "execution_count": 48,
      "outputs": [
        {
          "output_type": "stream",
          "name": "stdout",
          "text": [
            "dict_values(['leo', 'python', 22, True, 76.42])\n"
          ]
        }
      ]
    },
    {
      "cell_type": "code",
      "source": [
        "print(info.items()) #return all (key,value) pairs as tuples"
      ],
      "metadata": {
        "colab": {
          "base_uri": "https://localhost:8080/"
        },
        "id": "AizmWN1gOPNC",
        "outputId": "1c12d7d7-9df9-41dc-8258-7cf8921144fc"
      },
      "execution_count": 49,
      "outputs": [
        {
          "output_type": "stream",
          "name": "stdout",
          "text": [
            "dict_items([('name', 'leo'), ('learning', 'python'), ('age', 22), ('is adult', True), ('grade', 76.42)])\n"
          ]
        }
      ]
    },
    {
      "cell_type": "code",
      "source": [
        "print(info.get(\"name\")) #returns the key according to value"
      ],
      "metadata": {
        "colab": {
          "base_uri": "https://localhost:8080/"
        },
        "id": "yZR_sNB-O2W7",
        "outputId": "5ae7e19d-a22a-4828-983b-60f8798a279f"
      },
      "execution_count": 50,
      "outputs": [
        {
          "output_type": "stream",
          "name": "stdout",
          "text": [
            "leo\n"
          ]
        }
      ]
    },
    {
      "cell_type": "markdown",
      "source": [
        "# set in python"
      ],
      "metadata": {
        "id": "7eAztNLlTUrF"
      }
    },
    {
      "cell_type": "code",
      "source": [
        "collection = {1,2,4,5,3,2,\"leo\",\"world\",\"leo\",\"hello\"} #repeated elements stored only once\n",
        "print(collection)\n",
        "print(type(collection))\n",
        "print(len(collection))"
      ],
      "metadata": {
        "colab": {
          "base_uri": "https://localhost:8080/"
        },
        "id": "PCWV3oJ7Smkw",
        "outputId": "b821cdcb-34c9-4234-b19d-912a7a3de5cb"
      },
      "execution_count": 51,
      "outputs": [
        {
          "output_type": "stream",
          "name": "stdout",
          "text": [
            "{1, 2, 3, 4, 5, 'hello', 'world', 'leo'}\n",
            "<class 'set'>\n",
            "8\n"
          ]
        }
      ]
    },
    {
      "cell_type": "code",
      "source": [
        "collection.add(\"bezlel\") #adds an element\n",
        "print(collection)"
      ],
      "metadata": {
        "colab": {
          "base_uri": "https://localhost:8080/"
        },
        "id": "a7pzxGdGVE8o",
        "outputId": "ca3ee2ba-a4bd-4d27-a7d9-ad990c2d4115"
      },
      "execution_count": 52,
      "outputs": [
        {
          "output_type": "stream",
          "name": "stdout",
          "text": [
            "{1, 2, 3, 4, 5, 'hello', 'world', 'bezlel', 'leo'}\n"
          ]
        }
      ]
    },
    {
      "cell_type": "code",
      "source": [
        "collection.remove(1) #removes the element\n",
        "print(collection)"
      ],
      "metadata": {
        "colab": {
          "base_uri": "https://localhost:8080/"
        },
        "id": "fqlBq1pOW2GH",
        "outputId": "e51d2d64-d56f-4920-b5a6-5e5be9e75839"
      },
      "execution_count": 53,
      "outputs": [
        {
          "output_type": "stream",
          "name": "stdout",
          "text": [
            "{2, 3, 4, 5, 'hello', 'world', 'bezlel', 'leo'}\n"
          ]
        }
      ]
    },
    {
      "cell_type": "code",
      "source": [
        "collection = set() #empty set\n",
        "collection.add(1)\n",
        "collection.add(3)\n",
        "collection.add(2)\n",
        "collection.add(1)\n",
        "\n",
        "collection.remove(2)\n",
        "print(collection)"
      ],
      "metadata": {
        "colab": {
          "base_uri": "https://localhost:8080/"
        },
        "id": "8qBVxr82XtvE",
        "outputId": "0938286c-71d6-4bde-a630-94f8ce75aee7"
      },
      "execution_count": 54,
      "outputs": [
        {
          "output_type": "stream",
          "name": "stdout",
          "text": [
            "{1, 3}\n"
          ]
        }
      ]
    },
    {
      "cell_type": "code",
      "source": [
        "collection = {1,2,4,5,3,2,\"leo\",\"world\",\"leo\",\"hello\"}\n",
        "\n",
        "collection.clear() #empties the set\n",
        "print(collection)"
      ],
      "metadata": {
        "colab": {
          "base_uri": "https://localhost:8080/"
        },
        "id": "iQ_dxDQZZXtT",
        "outputId": "f02e1fa2-282b-4837-86cb-e26e27df671d"
      },
      "execution_count": 57,
      "outputs": [
        {
          "output_type": "stream",
          "name": "stdout",
          "text": [
            "set()\n"
          ]
        }
      ]
    },
    {
      "cell_type": "code",
      "source": [
        "collection = {1,2,4,5,3,2,\"leo\",\"world\",\"leo\",\"hello\"}\n",
        "print(collection.pop()) #removes a random value"
      ],
      "metadata": {
        "colab": {
          "base_uri": "https://localhost:8080/"
        },
        "id": "P8CHeUsMaeHh",
        "outputId": "5e7ba907-f4af-488a-9ae8-0971a318fd46"
      },
      "execution_count": 65,
      "outputs": [
        {
          "output_type": "stream",
          "name": "stdout",
          "text": [
            "1\n"
          ]
        }
      ]
    },
    {
      "cell_type": "code",
      "source": [
        "collection = {\"leo\",\"bezlel\",\"world\",\"leo\"}\n",
        "print(collection.pop())"
      ],
      "metadata": {
        "colab": {
          "base_uri": "https://localhost:8080/"
        },
        "id": "LTC27__oa4hf",
        "outputId": "6175feb8-ff3b-405e-86e5-3523b0dc663a"
      },
      "execution_count": 64,
      "outputs": [
        {
          "output_type": "stream",
          "name": "stdout",
          "text": [
            "world\n"
          ]
        }
      ]
    },
    {
      "cell_type": "code",
      "source": [
        "collection1 = {1,2,3,4}\n",
        "collection2 = {4,5,6,7}\n",
        "\n",
        "\n",
        "print(collection1.union(collection2)) #combines both set values and returns new"
      ],
      "metadata": {
        "colab": {
          "base_uri": "https://localhost:8080/"
        },
        "id": "B6GMUwoGbgds",
        "outputId": "ca3d1e52-e2ae-4590-cd3a-5ed63a21b236"
      },
      "execution_count": 68,
      "outputs": [
        {
          "output_type": "stream",
          "name": "stdout",
          "text": [
            "{1, 2, 3, 4, 5, 6, 7}\n"
          ]
        }
      ]
    },
    {
      "cell_type": "code",
      "source": [
        "collection1 = {1,2,3}\n",
        "collection2 = {3,4,5}\n",
        "\n",
        "print(collection1.intersection(collection2)) #combines common values and returns new"
      ],
      "metadata": {
        "colab": {
          "base_uri": "https://localhost:8080/"
        },
        "id": "TobVZklddfIy",
        "outputId": "3e2d56b4-05d3-4b25-cf64-83ba15e73310"
      },
      "execution_count": 71,
      "outputs": [
        {
          "output_type": "stream",
          "name": "stdout",
          "text": [
            "{3}\n"
          ]
        }
      ]
    },
    {
      "cell_type": "markdown",
      "source": [
        "# practice questions"
      ],
      "metadata": {
        "id": "NRWg9bVkfnGR"
      }
    },
    {
      "cell_type": "markdown",
      "source": [
        "# Q1)"
      ],
      "metadata": {
        "id": "0soBiU3XfqJM"
      }
    },
    {
      "cell_type": "code",
      "source": [
        "#store following word meanings in a python dictionary:\n",
        "# cat : \"a small animal\"\n",
        "# table : \"a piece of furniture\",\"list of facts and figures\"\n",
        "dictionary = {\n",
        "    \"cat\" : \"a small animal\",\n",
        "    \"table\" : [\"a piece of furniture\",\"list of facts and figures\"]\n",
        "}\n",
        "print(dictionary)"
      ],
      "metadata": {
        "colab": {
          "base_uri": "https://localhost:8080/"
        },
        "id": "8BT0AdI1ejud",
        "outputId": "cb90fab8-1104-44d8-8cb5-9a4809a50ad7"
      },
      "execution_count": 75,
      "outputs": [
        {
          "output_type": "stream",
          "name": "stdout",
          "text": [
            "{'cat': 'a small animal', 'table': ['a piece of furniture', 'list of facts and figures']}\n"
          ]
        }
      ]
    },
    {
      "cell_type": "markdown",
      "source": [
        "# Q2)"
      ],
      "metadata": {
        "id": "fS0YQSL0hWGT"
      }
    },
    {
      "cell_type": "code",
      "source": [
        "#you are given a list of subjects for students. assume one classroom is required for 1 subject\n",
        "#how many classrooms are needed by all students.\n",
        "\n",
        "set_of_subjects = {\"python\",\"java\",\"c++\",\"python\",\n",
        "                   \"javascript\",\"java\",\"python\",\n",
        "                   \"java\",\"c++\",\"c\"\n",
        "\n",
        "                   }\n",
        "\n",
        "print(len(set_of_subjects))"
      ],
      "metadata": {
        "colab": {
          "base_uri": "https://localhost:8080/"
        },
        "id": "b3-ea2F6glFQ",
        "outputId": "0442060d-8e6b-4cb3-ae99-a0caabfbf685"
      },
      "execution_count": 78,
      "outputs": [
        {
          "output_type": "stream",
          "name": "stdout",
          "text": [
            "5\n"
          ]
        }
      ]
    },
    {
      "cell_type": "markdown",
      "source": [
        "# Q3)"
      ],
      "metadata": {
        "id": "qD3ypAOajx38"
      }
    },
    {
      "cell_type": "code",
      "source": [
        "#WAP to enter marks of 3 subjects from the user and store them in a dictionary.\n",
        "#start with an empty dictioanry and add one by one. use subject name as key and marks as value\n",
        "\n",
        "marks ={}\n",
        "\n",
        "x = int(input(\"enter phy:\"))\n",
        "y = int(input(\"enter chem:\"))\n",
        "z = int(input(\"enter math:\"))"
      ],
      "metadata": {
        "colab": {
          "base_uri": "https://localhost:8080/"
        },
        "id": "y1PobVaijakm",
        "outputId": "13c82037-3256-4c72-f106-97af3883beb9"
      },
      "execution_count": 88,
      "outputs": [
        {
          "name": "stdout",
          "output_type": "stream",
          "text": [
            "enter phy:75\n",
            "enter chem:90\n",
            "enter math:95\n"
          ]
        }
      ]
    },
    {
      "cell_type": "code",
      "source": [
        "marks.update({\"phy:\": x})\n",
        "marks.update({\"chem:\": y})\n",
        "marks.update({\"math:\": z})\n",
        "\n",
        "print(marks)"
      ],
      "metadata": {
        "colab": {
          "base_uri": "https://localhost:8080/"
        },
        "id": "pfjG1UvslbMt",
        "outputId": "95516319-a14c-43e5-d963-7834e65385fb"
      },
      "execution_count": 90,
      "outputs": [
        {
          "output_type": "stream",
          "name": "stdout",
          "text": [
            "{'phy:': 75, 'chem:': 90, 'math:': 95}\n"
          ]
        }
      ]
    },
    {
      "cell_type": "markdown",
      "source": [
        "# Q4)"
      ],
      "metadata": {
        "id": "fI558HHynooi"
      }
    },
    {
      "cell_type": "code",
      "source": [
        "#Figure out a way to store 9 & 9.0 as seperate values in a set.\n",
        "#(you can take help of built in data types)\n",
        "\n",
        "values = {\n",
        "    \"float\":9.0,\n",
        "    \"int\":9\n",
        "}\n",
        "print(values)"
      ],
      "metadata": {
        "colab": {
          "base_uri": "https://localhost:8080/"
        },
        "id": "ythoayB3nGZP",
        "outputId": "c06340db-a63e-4bbd-e330-cc7990f004d9"
      },
      "execution_count": 91,
      "outputs": [
        {
          "output_type": "stream",
          "name": "stdout",
          "text": [
            "{'float': 9.0, 'int': 9}\n"
          ]
        }
      ]
    },
    {
      "cell_type": "code",
      "source": [],
      "metadata": {
        "id": "e9cmja68otXB"
      },
      "execution_count": null,
      "outputs": []
    }
  ]
}