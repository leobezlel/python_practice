{
  "nbformat": 4,
  "nbformat_minor": 0,
  "metadata": {
    "colab": {
      "provenance": [],
      "authorship_tag": "ABX9TyOuSAa1N/LKbh+aZHHgBekq",
      "include_colab_link": true
    },
    "kernelspec": {
      "name": "python3",
      "display_name": "Python 3"
    },
    "language_info": {
      "name": "python"
    }
  },
  "cells": [
    {
      "cell_type": "markdown",
      "metadata": {
        "id": "view-in-github",
        "colab_type": "text"
      },
      "source": [
        "<a href=\"https://colab.research.google.com/github/leobezlel/excelr-assignments/blob/main/Lecture2.ipynb\" target=\"_parent\"><img src=\"https://colab.research.google.com/assets/colab-badge.svg\" alt=\"Open In Colab\"/></a>"
      ]
    },
    {
      "cell_type": "markdown",
      "source": [
        "# STRINGS"
      ],
      "metadata": {
        "id": "wTGUXvhVAuSy"
      }
    },
    {
      "cell_type": "code",
      "execution_count": 1,
      "metadata": {
        "colab": {
          "base_uri": "https://localhost:8080/"
        },
        "id": "-dBr6ndxX8Gz",
        "outputId": "834d1e1a-d3a0-4b46-8764-bc1dca21256f"
      },
      "outputs": [
        {
          "output_type": "stream",
          "name": "stdout",
          "text": [
            "leobezlel\n"
          ]
        }
      ],
      "source": [
        "#concatenation\n",
        "str1 = \"leo\"\n",
        "str2 = \"bezlel\"\n",
        "final_str = str1+str2\n",
        "print(final_str)"
      ]
    },
    {
      "cell_type": "code",
      "source": [
        "#length of string\n",
        "str1 = \"leo\"\n",
        "print(len(str1))"
      ],
      "metadata": {
        "colab": {
          "base_uri": "https://localhost:8080/"
        },
        "id": "33QpyoOzBABQ",
        "outputId": "da3ba14d-d59a-4035-a09a-7fbbeeab307e"
      },
      "execution_count": 3,
      "outputs": [
        {
          "output_type": "stream",
          "name": "stdout",
          "text": [
            "3\n"
          ]
        }
      ]
    },
    {
      "cell_type": "markdown",
      "source": [
        "# indexing"
      ],
      "metadata": {
        "id": "YsrKRWYxFa8v"
      }
    },
    {
      "cell_type": "code",
      "source": [
        "str = \"leobezlel\"\n",
        "ch = str[5]\n",
        "print(ch)"
      ],
      "metadata": {
        "colab": {
          "base_uri": "https://localhost:8080/"
        },
        "id": "qFTMM8P7BTCJ",
        "outputId": "899e7eee-52f5-4a55-f2e3-26048e536bb0"
      },
      "execution_count": 4,
      "outputs": [
        {
          "output_type": "stream",
          "name": "stdout",
          "text": [
            "z\n"
          ]
        }
      ]
    },
    {
      "cell_type": "code",
      "source": [
        "str = \"leobezlel\"\n",
        "print(str[6])"
      ],
      "metadata": {
        "colab": {
          "base_uri": "https://localhost:8080/"
        },
        "id": "oKeUjfyJFki6",
        "outputId": "39abf1f7-4540-4c0d-ca05-a99ddeed7ab8"
      },
      "execution_count": 6,
      "outputs": [
        {
          "output_type": "stream",
          "name": "stdout",
          "text": [
            "l\n"
          ]
        }
      ]
    },
    {
      "cell_type": "markdown",
      "source": [
        "# Slicing"
      ],
      "metadata": {
        "id": "-taaEoc0GPXL"
      }
    },
    {
      "cell_type": "code",
      "source": [
        "str = \"leobezlel\"\n",
        "print(str[1:5])#ending_index is not included"
      ],
      "metadata": {
        "colab": {
          "base_uri": "https://localhost:8080/"
        },
        "id": "4QWoaOJ2F1pf",
        "outputId": "b826dd7c-bbd6-43b4-bcca-ac6f0696adb3"
      },
      "execution_count": 9,
      "outputs": [
        {
          "output_type": "stream",
          "name": "stdout",
          "text": [
            "eobe\n"
          ]
        }
      ]
    },
    {
      "cell_type": "code",
      "source": [
        "str = \"bezlel raj\"\n",
        "print(str[:6])"
      ],
      "metadata": {
        "colab": {
          "base_uri": "https://localhost:8080/"
        },
        "id": "gPa7C1rLHWkR",
        "outputId": "ed8e9828-a80f-4880-d78a-80be8aec3b33"
      },
      "execution_count": 10,
      "outputs": [
        {
          "output_type": "stream",
          "name": "stdout",
          "text": [
            "bezlel\n"
          ]
        }
      ]
    },
    {
      "cell_type": "code",
      "source": [
        "str = \"leo bezlel\"\n",
        "print(str[0:9])"
      ],
      "metadata": {
        "colab": {
          "base_uri": "https://localhost:8080/"
        },
        "id": "_EJu7ToGIkJY",
        "outputId": "3cd7bf0d-29db-4b66-b63a-11a2a14061e1"
      },
      "execution_count": 11,
      "outputs": [
        {
          "output_type": "stream",
          "name": "stdout",
          "text": [
            "leo bezle\n"
          ]
        }
      ]
    },
    {
      "cell_type": "code",
      "source": [
        "str = \"leo_bezlel\"\n",
        "print(str[:3])"
      ],
      "metadata": {
        "colab": {
          "base_uri": "https://localhost:8080/"
        },
        "id": "0RytcWnpItr-",
        "outputId": "c0b8b33e-e1e5-43f9-8a10-cf4df12aeab9"
      },
      "execution_count": 12,
      "outputs": [
        {
          "output_type": "stream",
          "name": "stdout",
          "text": [
            "leo\n"
          ]
        }
      ]
    },
    {
      "cell_type": "code",
      "source": [
        "str = \"leo_bezlel\"\n",
        "print(str[4:])"
      ],
      "metadata": {
        "colab": {
          "base_uri": "https://localhost:8080/"
        },
        "id": "E4ALl3RcJKPw",
        "outputId": "3c8a51ee-881a-4449-f96b-717a6bcb9317"
      },
      "execution_count": 13,
      "outputs": [
        {
          "output_type": "stream",
          "name": "stdout",
          "text": [
            "bezlel\n"
          ]
        }
      ]
    },
    {
      "cell_type": "code",
      "source": [
        "#Negative index\n",
        "str = \"leobezlel\"\n",
        "print(str[-5:-1])"
      ],
      "metadata": {
        "colab": {
          "base_uri": "https://localhost:8080/"
        },
        "id": "VWsfZhP7Jbvz",
        "outputId": "669c51b5-fb2d-47c1-adfc-5b6bfcccb382"
      },
      "execution_count": 19,
      "outputs": [
        {
          "output_type": "stream",
          "name": "stdout",
          "text": [
            "ezle\n"
          ]
        }
      ]
    },
    {
      "cell_type": "markdown",
      "source": [
        "# String functions"
      ],
      "metadata": {
        "id": "hYM-W0ksVj3N"
      }
    },
    {
      "cell_type": "code",
      "source": [
        "str = \"my name is leo amm a friend of sainath varma gorla.\"\n",
        "print(str.endswith(\"rla.\"))#endswith function"
      ],
      "metadata": {
        "colab": {
          "base_uri": "https://localhost:8080/"
        },
        "id": "P96k-STSQ9n-",
        "outputId": "4de091b6-807d-47ba-f852-495452524532"
      },
      "execution_count": 25,
      "outputs": [
        {
          "output_type": "stream",
          "name": "stdout",
          "text": [
            "True\n"
          ]
        }
      ]
    },
    {
      "cell_type": "code",
      "source": [
        "str = \"my name is leo amm a friend of sainath varma gorla\"\n",
        "print(str.startswith(\"my\"))#startswith function"
      ],
      "metadata": {
        "colab": {
          "base_uri": "https://localhost:8080/"
        },
        "id": "ZH81dzmTVyUt",
        "outputId": "9ab2bb7c-1cde-4943-cbb8-cb0fd98f254f"
      },
      "execution_count": 22,
      "outputs": [
        {
          "output_type": "stream",
          "name": "stdout",
          "text": [
            "True\n"
          ]
        }
      ]
    },
    {
      "cell_type": "code",
      "source": [
        "str = \"my name is leo amm a friend of sainath varma Gorla\"\n",
        "print(str.capitalize())#capitalize function"
      ],
      "metadata": {
        "colab": {
          "base_uri": "https://localhost:8080/"
        },
        "id": "mW-hL7fxWAzT",
        "outputId": "7e4a5c7a-8ef1-44b5-8392-583e4831a36e"
      },
      "execution_count": 32,
      "outputs": [
        {
          "output_type": "stream",
          "name": "stdout",
          "text": [
            "My name is leo amm a friend of sainath varma gorla\n"
          ]
        }
      ]
    },
    {
      "cell_type": "code",
      "source": [
        "str = \"my name is leo amm a friend of sainath varma gorla\"\n",
        "print(str.replace(\"a\",\"r\"))#replace function"
      ],
      "metadata": {
        "colab": {
          "base_uri": "https://localhost:8080/"
        },
        "id": "TmlvYqBqWyRc",
        "outputId": "24ec0700-b072-46f7-e76e-9463a840f21f"
      },
      "execution_count": 34,
      "outputs": [
        {
          "output_type": "stream",
          "name": "stdout",
          "text": [
            "my nrme is leo rmm r friend of srinrth vrrmr gorlr\n"
          ]
        }
      ]
    },
    {
      "cell_type": "code",
      "source": [
        "str = \"my name is leo amm a friend of sainath varma gorla\"\n",
        "print(str.find(\"nath\"))#find function"
      ],
      "metadata": {
        "colab": {
          "base_uri": "https://localhost:8080/"
        },
        "id": "sTWc37sSX583",
        "outputId": "ae895d7b-9881-4ce6-b25c-4d2238a25baf"
      },
      "execution_count": 35,
      "outputs": [
        {
          "output_type": "stream",
          "name": "stdout",
          "text": [
            "34\n"
          ]
        }
      ]
    },
    {
      "cell_type": "code",
      "source": [
        "str = \"i am a coder\"\n",
        "print(str.find(\"o\"))#find function"
      ],
      "metadata": {
        "colab": {
          "base_uri": "https://localhost:8080/"
        },
        "id": "BBe_A63EYs8k",
        "outputId": "862d8c68-31f1-4b81-e49b-581f396fb32e"
      },
      "execution_count": 38,
      "outputs": [
        {
          "output_type": "stream",
          "name": "stdout",
          "text": [
            "8\n"
          ]
        }
      ]
    },
    {
      "cell_type": "code",
      "source": [
        "str = \"my name is leo amm a friend of sainath varma gorla\"\n",
        "print(str.count(\"a\"))#count function"
      ],
      "metadata": {
        "colab": {
          "base_uri": "https://localhost:8080/"
        },
        "id": "9VRXsw6NZL4_",
        "outputId": "898af7d5-3a89-4682-b908-35cd95435de0"
      },
      "execution_count": 39,
      "outputs": [
        {
          "output_type": "stream",
          "name": "stdout",
          "text": [
            "8\n"
          ]
        }
      ]
    },
    {
      "cell_type": "markdown",
      "source": [
        "# practice questions)"
      ],
      "metadata": {
        "id": "mVZmHj6aaWyn"
      }
    },
    {
      "cell_type": "markdown",
      "source": [
        "# Q1)"
      ],
      "metadata": {
        "id": "rJzuTh_Qaq4H"
      }
    },
    {
      "cell_type": "code",
      "source": [
        "#write a program to input user's first name and print its length?\n",
        "name = input(\"name of the user:\")"
      ],
      "metadata": {
        "colab": {
          "base_uri": "https://localhost:8080/"
        },
        "id": "MffZso_haBC5",
        "outputId": "22891b39-ab21-4b92-fdf1-fb32308c5ea3"
      },
      "execution_count": 43,
      "outputs": [
        {
          "name": "stdout",
          "output_type": "stream",
          "text": [
            "name of the user:chindhu\n"
          ]
        }
      ]
    },
    {
      "cell_type": "code",
      "source": [
        "print(len(str))"
      ],
      "metadata": {
        "colab": {
          "base_uri": "https://localhost:8080/"
        },
        "id": "MhuLofmda3_G",
        "outputId": "1f31e7a5-f9eb-4c0e-f6fa-6521c7fedbaa"
      },
      "execution_count": 44,
      "outputs": [
        {
          "output_type": "stream",
          "name": "stdout",
          "text": [
            "7\n"
          ]
        }
      ]
    },
    {
      "cell_type": "markdown",
      "source": [
        "# Q2)"
      ],
      "metadata": {
        "id": "VPEhxEuHbMmm"
      }
    },
    {
      "cell_type": "code",
      "source": [
        "#write a program to find the occurance of '$' in a string?\n",
        "str = \"my exam fee was $99\"\n",
        "print(str.count(\"$\"))\n"
      ],
      "metadata": {
        "colab": {
          "base_uri": "https://localhost:8080/"
        },
        "id": "hwoiOlrnbJ74",
        "outputId": "b38d3e5e-b01a-437b-e453-9f7200dabb60"
      },
      "execution_count": 45,
      "outputs": [
        {
          "output_type": "stream",
          "name": "stdout",
          "text": [
            "1\n"
          ]
        }
      ]
    },
    {
      "cell_type": "markdown",
      "source": [
        "# Conditional statements"
      ],
      "metadata": {
        "id": "-NhBQMzNciFh"
      }
    },
    {
      "cell_type": "code",
      "source": [
        "age = 22\n",
        "\n",
        "if(age >= 18):\n",
        "    print(\"can apply for license\")"
      ],
      "metadata": {
        "colab": {
          "base_uri": "https://localhost:8080/"
        },
        "id": "cVemSsS1ck8Z",
        "outputId": "281910c9-db6a-48fc-d4a7-0bf8a185bb5d"
      },
      "execution_count": 49,
      "outputs": [
        {
          "output_type": "stream",
          "name": "stdout",
          "text": [
            "can apply for license\n"
          ]
        }
      ]
    },
    {
      "cell_type": "code",
      "source": [
        "age = 25\n",
        "\n",
        "if(age >=18):\n",
        "    print(\"sai can loose his virginity\")"
      ],
      "metadata": {
        "colab": {
          "base_uri": "https://localhost:8080/"
        },
        "id": "ODSyNfYcdASp",
        "outputId": "728efa21-3d95-42e1-af6d-42e6182ab2bf"
      },
      "execution_count": 52,
      "outputs": [
        {
          "output_type": "stream",
          "name": "stdout",
          "text": [
            "sai can loose his virginity\n"
          ]
        }
      ]
    },
    {
      "cell_type": "code",
      "source": [
        "light =\"white\"\n",
        "\n",
        "if(light == \"red\"):\n",
        "    print(\"stop\")\n",
        "elif(light == \"green\"):\n",
        "    print(\"go\")\n",
        "elif(light == \"yellow\"):\n",
        "    print(\"look\")\n",
        "else:\n",
        "    print(\"light is broken\")"
      ],
      "metadata": {
        "colab": {
          "base_uri": "https://localhost:8080/"
        },
        "id": "bddV_aELdOkn",
        "outputId": "a2dc1d95-d695-4185-f85c-206b44fb358f"
      },
      "execution_count": 61,
      "outputs": [
        {
          "output_type": "stream",
          "name": "stdout",
          "text": [
            "light is broken\n"
          ]
        }
      ]
    },
    {
      "cell_type": "code",
      "source": [
        "light = input(\"light:\")"
      ],
      "metadata": {
        "colab": {
          "base_uri": "https://localhost:8080/"
        },
        "id": "Jen3cZWud3oD",
        "outputId": "1bb7410d-6d79-46a5-93e2-ec88b7089271"
      },
      "execution_count": 62,
      "outputs": [
        {
          "name": "stdout",
          "output_type": "stream",
          "text": [
            "light:yellow\n"
          ]
        }
      ]
    },
    {
      "cell_type": "code",
      "source": [
        "if(light == \"red\"):\n",
        "    print(\"stop\")\n",
        "elif(light == \"green\"):\n",
        "    print(\"go\")\n",
        "elif(light == \"yellow\"):\n",
        "    print(\"look\")\n",
        "else:\n",
        "   print(\"light is broken\")"
      ],
      "metadata": {
        "colab": {
          "base_uri": "https://localhost:8080/"
        },
        "id": "AL893NbKfgBs",
        "outputId": "fd970a4a-d2b4-4bb7-e924-02263ba552d9"
      },
      "execution_count": 64,
      "outputs": [
        {
          "output_type": "stream",
          "name": "stdout",
          "text": [
            "look\n"
          ]
        }
      ]
    },
    {
      "cell_type": "code",
      "source": [
        "num = 5\n",
        "\n",
        "if(num == 10/2):\n",
        "   print(True)"
      ],
      "metadata": {
        "colab": {
          "base_uri": "https://localhost:8080/"
        },
        "id": "ppdxMPxnfoDx",
        "outputId": "1f20d1c1-3c77-414f-ae6b-18ed89d28546"
      },
      "execution_count": 65,
      "outputs": [
        {
          "output_type": "stream",
          "name": "stdout",
          "text": [
            "True\n"
          ]
        }
      ]
    },
    {
      "cell_type": "code",
      "source": [
        "age = 26\n",
        "\n",
        "if(age > 18):\n",
        "   print(\"can vote\")\n",
        "else:\n",
        "   print(\"cannot vote\")"
      ],
      "metadata": {
        "colab": {
          "base_uri": "https://localhost:8080/"
        },
        "id": "u5IgjPx_gbgj",
        "outputId": "876a967c-8e89-420c-cfde-e97ff35b1ac9"
      },
      "execution_count": 66,
      "outputs": [
        {
          "output_type": "stream",
          "name": "stdout",
          "text": [
            "can vote\n"
          ]
        }
      ]
    },
    {
      "cell_type": "code",
      "source": [
        "marks = 90\n",
        "if(marks >=80):\n",
        "   print(\"B\")\n",
        "elif(marks >=70):\n",
        "    print(\"C\")\n",
        "elif(marks >=90):\n",
        "    print(\"A\")\n",
        "else:\n",
        "   print(\"fail\")"
      ],
      "metadata": {
        "colab": {
          "base_uri": "https://localhost:8080/"
        },
        "id": "rBd0LgM9hT4s",
        "outputId": "1944592f-81df-4554-8d70-53d8e801867c"
      },
      "execution_count": 67,
      "outputs": [
        {
          "output_type": "stream",
          "name": "stdout",
          "text": [
            "B\n"
          ]
        }
      ]
    },
    {
      "cell_type": "code",
      "source": [
        "marks =69\n",
        "\n",
        "if(marks >= 90):\n",
        "   print(\"A\")\n",
        "elif(marks >=80):\n",
        "   print(\"B\")\n",
        "elif(marks >= 70):\n",
        "    print(\"C\")\n",
        "else:\n",
        "   print(\"fail\")"
      ],
      "metadata": {
        "colab": {
          "base_uri": "https://localhost:8080/"
        },
        "id": "S0WVjlt9pYLX",
        "outputId": "1a4bd882-5372-4715-e069-81c850fe64c4"
      },
      "execution_count": 69,
      "outputs": [
        {
          "output_type": "stream",
          "name": "stdout",
          "text": [
            "fail\n"
          ]
        }
      ]
    },
    {
      "cell_type": "markdown",
      "source": [
        "# practice questions)"
      ],
      "metadata": {
        "id": "Eco4-U61sV0V"
      }
    },
    {
      "cell_type": "markdown",
      "source": [
        "# Q3)"
      ],
      "metadata": {
        "id": "-OqlU7qTsaWW"
      }
    },
    {
      "cell_type": "code",
      "source": [
        "#write a program to check if a number entered by the user is odd or even.\n",
        "num = int(input(\"enter the number:\"))"
      ],
      "metadata": {
        "colab": {
          "base_uri": "https://localhost:8080/"
        },
        "id": "gFCzyGEvp2fh",
        "outputId": "70b998fd-b070-4a34-def9-f064e723c27a"
      },
      "execution_count": 86,
      "outputs": [
        {
          "name": "stdout",
          "output_type": "stream",
          "text": [
            "enter the number:14\n"
          ]
        }
      ]
    },
    {
      "cell_type": "code",
      "source": [
        "if(num % 2 == 0):\n",
        "  print(\"EVEN\")\n",
        "else:\n",
        "  print(\"ODD\")"
      ],
      "metadata": {
        "colab": {
          "base_uri": "https://localhost:8080/"
        },
        "id": "9Q1CiWpetCVL",
        "outputId": "480db77b-3205-40f4-d742-b57defb1e3b1"
      },
      "execution_count": 87,
      "outputs": [
        {
          "output_type": "stream",
          "name": "stdout",
          "text": [
            "EVEN\n"
          ]
        }
      ]
    },
    {
      "cell_type": "code",
      "source": [
        "num = int(input(\"enter the number:\"))"
      ],
      "metadata": {
        "colab": {
          "base_uri": "https://localhost:8080/"
        },
        "id": "Y1aneolCvdER",
        "outputId": "e089820e-b6ee-4adb-f88a-78767676c501"
      },
      "execution_count": 88,
      "outputs": [
        {
          "name": "stdout",
          "output_type": "stream",
          "text": [
            "enter the number:13\n"
          ]
        }
      ]
    },
    {
      "cell_type": "code",
      "source": [
        "if(num % 2 == 0):\n",
        "    print(\"EVEN\")\n",
        "else:\n",
        "   print(\"ODD\")"
      ],
      "metadata": {
        "colab": {
          "base_uri": "https://localhost:8080/"
        },
        "id": "vdx_Tlwsvu7M",
        "outputId": "b397f57a-2143-447b-9684-8258fd587bb6"
      },
      "execution_count": 89,
      "outputs": [
        {
          "output_type": "stream",
          "name": "stdout",
          "text": [
            "ODD\n"
          ]
        }
      ]
    },
    {
      "cell_type": "markdown",
      "source": [
        "# Q4)"
      ],
      "metadata": {
        "id": "jvA9a82EwAbD"
      }
    },
    {
      "cell_type": "code",
      "source": [
        "#write a program to find the greatest of 3 numbers entered by the user.\n",
        "a = 39\n",
        "b = 40\n",
        "c = 34\n",
        "if(a>=b and a>=c):\n",
        "   print(a,\"is the largest number\")\n",
        "elif(b>=c):\n",
        "   print(b,\"is the largest number\")\n",
        "else:\n",
        "  print(c,\"is the largest number\")"
      ],
      "metadata": {
        "colab": {
          "base_uri": "https://localhost:8080/"
        },
        "id": "P82AvaB8v4hb",
        "outputId": "df816e10-0f21-479e-e445-b3b39666221b"
      },
      "execution_count": 91,
      "outputs": [
        {
          "output_type": "stream",
          "name": "stdout",
          "text": [
            "40 is the largest number\n"
          ]
        }
      ]
    },
    {
      "cell_type": "markdown",
      "source": [
        "# Q5)"
      ],
      "metadata": {
        "id": "WxmjibJcx7Yo"
      }
    },
    {
      "cell_type": "code",
      "source": [
        "#write a program to check if a number is a multiple of 7 or not\n",
        "num = int(input(\"enter the number\"))"
      ],
      "metadata": {
        "colab": {
          "base_uri": "https://localhost:8080/"
        },
        "id": "78nv8Fq-xp7K",
        "outputId": "655afad8-6c49-438d-d996-452a37e8c35e"
      },
      "execution_count": 92,
      "outputs": [
        {
          "name": "stdout",
          "output_type": "stream",
          "text": [
            "enter the number36\n"
          ]
        }
      ]
    },
    {
      "cell_type": "code",
      "source": [
        "if(num % 7 == 0):\n",
        "   print(num,\"number is multiple of 7\")\n",
        "else:\n",
        "  print(\"it is not a multiple of 7\")"
      ],
      "metadata": {
        "colab": {
          "base_uri": "https://localhost:8080/"
        },
        "id": "jrSkCgnZyb7t",
        "outputId": "730249a1-38f6-4f84-b757-31cdb7405029"
      },
      "execution_count": 93,
      "outputs": [
        {
          "output_type": "stream",
          "name": "stdout",
          "text": [
            "it is not a multiple of 7\n"
          ]
        }
      ]
    },
    {
      "cell_type": "code",
      "source": [
        "num = int(input(\"enter the number\"))"
      ],
      "metadata": {
        "colab": {
          "base_uri": "https://localhost:8080/"
        },
        "id": "ze3l0EFbzLgk",
        "outputId": "ef26de6d-60f2-4756-b1e8-11d3882195df"
      },
      "execution_count": 94,
      "outputs": [
        {
          "name": "stdout",
          "output_type": "stream",
          "text": [
            "enter the number35\n"
          ]
        }
      ]
    },
    {
      "cell_type": "code",
      "source": [
        "if(num % 7 == 0):\n",
        "   print(num,\"is a multiple of 7\")\n",
        "else:\n",
        "    print(\"it is not\")"
      ],
      "metadata": {
        "colab": {
          "base_uri": "https://localhost:8080/"
        },
        "id": "RPoSPyQ6zO1Y",
        "outputId": "a30beeb7-9e8d-4efa-d2dd-a51d5f332a42"
      },
      "execution_count": 95,
      "outputs": [
        {
          "output_type": "stream",
          "name": "stdout",
          "text": [
            "35 is a multiple of 7\n"
          ]
        }
      ]
    },
    {
      "cell_type": "code",
      "source": [],
      "metadata": {
        "id": "9G6XcZFmzctC"
      },
      "execution_count": null,
      "outputs": []
    }
  ]
}