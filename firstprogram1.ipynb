{
  "nbformat": 4,
  "nbformat_minor": 0,
  "metadata": {
    "colab": {
      "provenance": [],
      "authorship_tag": "ABX9TyPWB4Ot7LYTHY13VU6MaYhN",
      "include_colab_link": true
    },
    "kernelspec": {
      "name": "python3",
      "display_name": "Python 3"
    },
    "language_info": {
      "name": "python"
    }
  },
  "cells": [
    {
      "cell_type": "markdown",
      "metadata": {
        "id": "view-in-github",
        "colab_type": "text"
      },
      "source": [
        "<a href=\"https://colab.research.google.com/github/leobezlel/excelr-assignments/blob/main/firstprogram1.ipynb\" target=\"_parent\"><img src=\"https://colab.research.google.com/assets/colab-badge.svg\" alt=\"Open In Colab\"/></a>"
      ]
    },
    {
      "cell_type": "markdown",
      "source": [
        "# variables"
      ],
      "metadata": {
        "id": "ag_m3PD5VCTh"
      }
    },
    {
      "cell_type": "code",
      "execution_count": null,
      "metadata": {
        "colab": {
          "base_uri": "https://localhost:8080/"
        },
        "id": "TI7o9Ovl73Ku",
        "outputId": "1b97dd21-70de-49e5-de5b-de50ba6b3ad6"
      },
      "outputs": [
        {
          "output_type": "stream",
          "name": "stdout",
          "text": [
            "hello world\n"
          ]
        }
      ],
      "source": [
        "print(\"hello world\")"
      ]
    },
    {
      "cell_type": "code",
      "source": [
        "print(\"my name is leo bezlel.\")\n",
        "print(\"my age is 22\")"
      ],
      "metadata": {
        "colab": {
          "base_uri": "https://localhost:8080/"
        },
        "id": "jRZ4s0l_77u3",
        "outputId": "0ab0c5c6-8610-494d-9168-8994b016b41c"
      },
      "execution_count": null,
      "outputs": [
        {
          "output_type": "stream",
          "name": "stdout",
          "text": [
            "my name is leo bezlel.\n",
            "my age is 22\n"
          ]
        }
      ]
    },
    {
      "cell_type": "code",
      "source": [
        "print(\"my name is leo bezlel\",\"my age is 22\")"
      ],
      "metadata": {
        "colab": {
          "base_uri": "https://localhost:8080/"
        },
        "id": "Ul2_5dEr_CUI",
        "outputId": "7592fa15-fa8b-4687-924a-434b7aab9cff"
      },
      "execution_count": null,
      "outputs": [
        {
          "output_type": "stream",
          "name": "stdout",
          "text": [
            "my name is leo bezlel my age is 22\n"
          ]
        }
      ]
    },
    {
      "cell_type": "code",
      "source": [
        "print(22)"
      ],
      "metadata": {
        "colab": {
          "base_uri": "https://localhost:8080/"
        },
        "id": "YU6PbVQv_HMd",
        "outputId": "d5c5c524-00aa-4b15-9909-6468f7c9bf24"
      },
      "execution_count": null,
      "outputs": [
        {
          "output_type": "stream",
          "name": "stdout",
          "text": [
            "22\n"
          ]
        }
      ]
    },
    {
      "cell_type": "code",
      "source": [
        "print(18+4)"
      ],
      "metadata": {
        "colab": {
          "base_uri": "https://localhost:8080/"
        },
        "id": "79a172GV_Jlm",
        "outputId": "1e7ed384-02f9-4d7a-e348-35a77b4f8e9a"
      },
      "execution_count": null,
      "outputs": [
        {
          "output_type": "stream",
          "name": "stdout",
          "text": [
            "22\n"
          ]
        }
      ]
    },
    {
      "cell_type": "code",
      "source": [
        "name=\"leo\"\n",
        "print(name)"
      ],
      "metadata": {
        "colab": {
          "base_uri": "https://localhost:8080/"
        },
        "id": "dLljvvtR_RIY",
        "outputId": "2250d5d5-e4b4-48a8-824e-731ccd8d61ab"
      },
      "execution_count": null,
      "outputs": [
        {
          "output_type": "stream",
          "name": "stdout",
          "text": [
            "leo\n"
          ]
        }
      ]
    },
    {
      "cell_type": "code",
      "source": [
        "age=23\n",
        "print(age)"
      ],
      "metadata": {
        "colab": {
          "base_uri": "https://localhost:8080/"
        },
        "id": "SXP7U8J-_V_b",
        "outputId": "79ead246-b432-4583-a46e-773a5792aa7b"
      },
      "execution_count": null,
      "outputs": [
        {
          "output_type": "stream",
          "name": "stdout",
          "text": [
            "23\n"
          ]
        }
      ]
    },
    {
      "cell_type": "code",
      "source": [
        "name = \"leo\"\n",
        "age = 22\n",
        "price = 22.45\n",
        "print(\"my name is:\",name)\n",
        "print(\"my age is:\", age)\n",
        "print(\"price of a toothbrush:\",price)"
      ],
      "metadata": {
        "colab": {
          "base_uri": "https://localhost:8080/"
        },
        "id": "ZJ6pK-ri_XjJ",
        "outputId": "6ca9490c-9a9a-492c-a5fc-3dc6e5a4218b"
      },
      "execution_count": null,
      "outputs": [
        {
          "output_type": "stream",
          "name": "stdout",
          "text": [
            "my name is: leo\n",
            "my age is: 22\n",
            "price of a toothbrush: 22.45\n"
          ]
        }
      ]
    },
    {
      "cell_type": "markdown",
      "source": [
        "# Data types"
      ],
      "metadata": {
        "id": "RLOvYpaoU-Eg"
      }
    },
    {
      "cell_type": "code",
      "source": [
        "print(type(name))"
      ],
      "metadata": {
        "colab": {
          "base_uri": "https://localhost:8080/"
        },
        "id": "LPYeeTb__bM9",
        "outputId": "2674b8a0-2d94-4632-cc24-7329aa9fd838"
      },
      "execution_count": null,
      "outputs": [
        {
          "output_type": "stream",
          "name": "stdout",
          "text": [
            "<class 'str'>\n"
          ]
        }
      ]
    },
    {
      "cell_type": "code",
      "source": [
        "print(type(age))"
      ],
      "metadata": {
        "colab": {
          "base_uri": "https://localhost:8080/"
        },
        "id": "svutwpQb_dkM",
        "outputId": "148dbfdb-6e33-49a0-aac1-6b994c67c1f1"
      },
      "execution_count": null,
      "outputs": [
        {
          "output_type": "stream",
          "name": "stdout",
          "text": [
            "<class 'int'>\n"
          ]
        }
      ]
    },
    {
      "cell_type": "code",
      "source": [
        "print(type(price))"
      ],
      "metadata": {
        "colab": {
          "base_uri": "https://localhost:8080/"
        },
        "id": "wZF7tOik_fCT",
        "outputId": "41b28ae8-c7ed-415b-ce87-6400d8d203f6"
      },
      "execution_count": null,
      "outputs": [
        {
          "output_type": "stream",
          "name": "stdout",
          "text": [
            "<class 'float'>\n"
          ]
        }
      ]
    },
    {
      "cell_type": "code",
      "source": [
        "old=False\n",
        "print(type(old))"
      ],
      "metadata": {
        "colab": {
          "base_uri": "https://localhost:8080/"
        },
        "id": "LJuZob7E_g3R",
        "outputId": "866845e6-66a5-4be2-ac04-8053528e27bd"
      },
      "execution_count": null,
      "outputs": [
        {
          "output_type": "stream",
          "name": "stdout",
          "text": [
            "<class 'bool'>\n"
          ]
        }
      ]
    },
    {
      "cell_type": "code",
      "source": [
        "age = 23\n",
        "old = False\n",
        "a = None\n",
        "print(type(age))\n",
        "print(type(old))\n",
        "print(type(a))"
      ],
      "metadata": {
        "colab": {
          "base_uri": "https://localhost:8080/"
        },
        "id": "_hElJs1v_jco",
        "outputId": "ffcc4f5c-b42c-4fab-e340-6905bbb4ff55"
      },
      "execution_count": null,
      "outputs": [
        {
          "output_type": "stream",
          "name": "stdout",
          "text": [
            "<class 'int'>\n",
            "<class 'bool'>\n",
            "<class 'NoneType'>\n"
          ]
        }
      ]
    },
    {
      "cell_type": "markdown",
      "source": [
        "# print sum"
      ],
      "metadata": {
        "id": "ZA95-RjYVzbF"
      }
    },
    {
      "cell_type": "code",
      "source": [
        " a=1\n",
        " b=3\n",
        " sum=a+b\n",
        " print(sum)"
      ],
      "metadata": {
        "colab": {
          "base_uri": "https://localhost:8080/"
        },
        "id": "WhT5uFRY_mn5",
        "outputId": "23ed00fc-dfaf-4fdf-f991-acf436753026"
      },
      "execution_count": null,
      "outputs": [
        {
          "output_type": "stream",
          "name": "stdout",
          "text": [
            "4\n"
          ]
        }
      ]
    },
    {
      "cell_type": "code",
      "source": [
        "a=1\n",
        "b=3\n",
        "sum=a*b\n",
        "print(sum)"
      ],
      "metadata": {
        "colab": {
          "base_uri": "https://localhost:8080/"
        },
        "id": "KKo4DDcG_p99",
        "outputId": "929dc323-70e8-48f5-b5b1-f146c4d0e3af"
      },
      "execution_count": null,
      "outputs": [
        {
          "output_type": "stream",
          "name": "stdout",
          "text": [
            "3\n"
          ]
        }
      ]
    },
    {
      "cell_type": "code",
      "source": [
        "a=1\n",
        "b=3\n",
        "sum=a-b\n",
        "print(sum)"
      ],
      "metadata": {
        "colab": {
          "base_uri": "https://localhost:8080/"
        },
        "id": "ICX174Ld_rbR",
        "outputId": "c6152e93-08c4-42a5-ad0f-f771682033ee"
      },
      "execution_count": null,
      "outputs": [
        {
          "output_type": "stream",
          "name": "stdout",
          "text": [
            "-2\n"
          ]
        }
      ]
    },
    {
      "cell_type": "code",
      "source": [
        "a=20\n",
        "b=10\n",
        "c=5\n",
        "sum = a+b*c\n",
        "print(sum)"
      ],
      "metadata": {
        "colab": {
          "base_uri": "https://localhost:8080/"
        },
        "id": "eu46G0JC_tDZ",
        "outputId": "37a5a1b5-3243-4f43-cda3-7fcac1248496"
      },
      "execution_count": null,
      "outputs": [
        {
          "output_type": "stream",
          "name": "stdout",
          "text": [
            "70\n"
          ]
        }
      ]
    },
    {
      "cell_type": "markdown",
      "source": [
        "# Types of tokens"
      ],
      "metadata": {
        "id": "aZCJuFaqVtva"
      }
    },
    {
      "cell_type": "code",
      "source": [
        "a = 2\n",
        "b = 3\n",
        "txt = \"@\"\n",
        "print(a*txt*b)"
      ],
      "metadata": {
        "colab": {
          "base_uri": "https://localhost:8080/"
        },
        "id": "zewpgJJo_uka",
        "outputId": "9af7b339-ff12-45e6-d7d6-27db68a37d36"
      },
      "execution_count": null,
      "outputs": [
        {
          "output_type": "stream",
          "name": "stdout",
          "text": [
            "@@@@@@\n"
          ]
        }
      ]
    },
    {
      "cell_type": "code",
      "source": [
        "a = \"2\"\n",
        "b = 3\n",
        "txt = \"@\"\n",
        "print((a+txt)*b)"
      ],
      "metadata": {
        "colab": {
          "base_uri": "https://localhost:8080/"
        },
        "id": "1BySsBg__wUO",
        "outputId": "87585e07-48e8-4e52-dc17-32993cacd7cc"
      },
      "execution_count": null,
      "outputs": [
        {
          "output_type": "stream",
          "name": "stdout",
          "text": [
            "2@2@2@\n"
          ]
        }
      ]
    },
    {
      "cell_type": "markdown",
      "source": [
        "# Inputs in python"
      ],
      "metadata": {
        "id": "xUBUXjX-Vek5"
      }
    },
    {
      "cell_type": "code",
      "source": [
        "name = str(input(\"name:\"))"
      ],
      "metadata": {
        "id": "9YbVl3dnAFGP",
        "colab": {
          "base_uri": "https://localhost:8080/"
        },
        "outputId": "27334f45-17dc-4003-926f-7bea093a8fa5"
      },
      "execution_count": null,
      "outputs": [
        {
          "name": "stdout",
          "output_type": "stream",
          "text": [
            "name:bezlel\n"
          ]
        }
      ]
    },
    {
      "cell_type": "code",
      "source": [
        "print(name)"
      ],
      "metadata": {
        "colab": {
          "base_uri": "https://localhost:8080/"
        },
        "id": "Dt26CaTZBMAT",
        "outputId": "7294e617-869c-4d02-f568-82bbefcb4ee5"
      },
      "execution_count": null,
      "outputs": [
        {
          "output_type": "stream",
          "name": "stdout",
          "text": [
            "bezlel\n"
          ]
        }
      ]
    },
    {
      "cell_type": "code",
      "source": [
        "age = int(input(\"age:\"))"
      ],
      "metadata": {
        "colab": {
          "base_uri": "https://localhost:8080/"
        },
        "id": "0Yf9F7XPBQdU",
        "outputId": "f95c6b75-a238-4efd-f3b5-a3daf0b113dd"
      },
      "execution_count": null,
      "outputs": [
        {
          "name": "stdout",
          "output_type": "stream",
          "text": [
            "age:26\n"
          ]
        }
      ]
    },
    {
      "cell_type": "code",
      "source": [
        "print(age)"
      ],
      "metadata": {
        "colab": {
          "base_uri": "https://localhost:8080/"
        },
        "id": "e3WDjm6iBUAk",
        "outputId": "60b19db2-1a45-4fb1-ad48-841c39db0600"
      },
      "execution_count": null,
      "outputs": [
        {
          "output_type": "stream",
          "name": "stdout",
          "text": [
            "26\n"
          ]
        }
      ]
    },
    {
      "cell_type": "code",
      "source": [
        "price = float(input(\"price:\"))"
      ],
      "metadata": {
        "colab": {
          "base_uri": "https://localhost:8080/"
        },
        "id": "PFKK-nWqBV63",
        "outputId": "2b09e67e-4715-4f06-e247-7b075cb8ff11"
      },
      "execution_count": null,
      "outputs": [
        {
          "name": "stdout",
          "output_type": "stream",
          "text": [
            "price:26\n"
          ]
        }
      ]
    },
    {
      "cell_type": "code",
      "source": [
        "print(price)"
      ],
      "metadata": {
        "colab": {
          "base_uri": "https://localhost:8080/"
        },
        "id": "uhL2oAecBX72",
        "outputId": "0dc93f14-1672-41bc-859c-a8825263245a"
      },
      "execution_count": null,
      "outputs": [
        {
          "output_type": "stream",
          "name": "stdout",
          "text": [
            "26.0\n"
          ]
        }
      ]
    },
    {
      "cell_type": "code",
      "source": [
        "print(type(not True and False or True ))"
      ],
      "metadata": {
        "colab": {
          "base_uri": "https://localhost:8080/"
        },
        "id": "6JSU6klaBeRT",
        "outputId": "ad89cfb4-04da-41e1-e6b9-be90f39a6afa"
      },
      "execution_count": null,
      "outputs": [
        {
          "output_type": "stream",
          "name": "stdout",
          "text": [
            "<class 'bool'>\n"
          ]
        }
      ]
    },
    {
      "cell_type": "markdown",
      "source": [
        "# practice questions\n",
        "# 1)"
      ],
      "metadata": {
        "id": "KBmCr8rGB8L2"
      }
    },
    {
      "cell_type": "code",
      "source": [
        "#write a program to input 2 numbers and print their sum?\n",
        "num1 = int(input(\"first number:\"))\n",
        "num2 = int(input(\"second number:\"))\n",
        "sum = num1+num2\n"
      ],
      "metadata": {
        "colab": {
          "base_uri": "https://localhost:8080/"
        },
        "id": "cDSCrYZ_BjUj",
        "outputId": "0729bb55-ce40-4cc0-d623-4f20707e088e"
      },
      "execution_count": null,
      "outputs": [
        {
          "name": "stdout",
          "output_type": "stream",
          "text": [
            "first number:280\n",
            "second number:20\n"
          ]
        }
      ]
    },
    {
      "cell_type": "code",
      "source": [
        "print(sum)"
      ],
      "metadata": {
        "colab": {
          "base_uri": "https://localhost:8080/"
        },
        "id": "fzxPCbH9CDHu",
        "outputId": "79d9e2dd-c7b3-4ac1-ece3-79589f347281"
      },
      "execution_count": null,
      "outputs": [
        {
          "output_type": "stream",
          "name": "stdout",
          "text": [
            "300\n"
          ]
        }
      ]
    },
    {
      "cell_type": "markdown",
      "source": [
        "# 2)"
      ],
      "metadata": {
        "id": "v850r1W1Dyhl"
      }
    },
    {
      "cell_type": "code",
      "source": [
        "#write a program to input side of a square and print its area?\n",
        "side_length = int(input(\"Enter the side_length of the square: \"))"
      ],
      "metadata": {
        "colab": {
          "base_uri": "https://localhost:8080/"
        },
        "id": "-UFLXvo9CQa3",
        "outputId": "c5823d0f-c2bf-4481-817a-4034770d0b5b"
      },
      "execution_count": null,
      "outputs": [
        {
          "name": "stdout",
          "output_type": "stream",
          "text": [
            "Enter the side_length of the square: 6\n"
          ]
        }
      ]
    },
    {
      "cell_type": "code",
      "source": [
        "area = 6**2"
      ],
      "metadata": {
        "id": "pZBgGxlIDHMt"
      },
      "execution_count": null,
      "outputs": []
    },
    {
      "cell_type": "code",
      "source": [
        "print(\"The area of the square with side length\", side_length, \"is:\", area)"
      ],
      "metadata": {
        "colab": {
          "base_uri": "https://localhost:8080/"
        },
        "id": "Zml2cnREDM6s",
        "outputId": "d9c16b10-8aa9-4424-a1bf-85ff9327cb1a"
      },
      "execution_count": null,
      "outputs": [
        {
          "output_type": "stream",
          "name": "stdout",
          "text": [
            "The area of the square with side length 6 is: 36\n"
          ]
        }
      ]
    },
    {
      "cell_type": "markdown",
      "source": [
        "# 3)"
      ],
      "metadata": {
        "id": "VuHSdOceD4_K"
      }
    },
    {
      "cell_type": "code",
      "source": [
        "#write a program to input 2 floating numbers and print their average?\n",
        "num1 = float(input(\"enter first number:\"))\n",
        "num2 = float(input(\"enter second number:\"))\n",
        "average = (num1+num2)/2"
      ],
      "metadata": {
        "id": "ohxLeZ5dDanQ",
        "colab": {
          "base_uri": "https://localhost:8080/"
        },
        "outputId": "057657c3-65a8-4f5a-9064-55ea64103885"
      },
      "execution_count": null,
      "outputs": [
        {
          "name": "stdout",
          "output_type": "stream",
          "text": [
            "enter first number:25\n",
            "enter second number:5\n"
          ]
        }
      ]
    },
    {
      "cell_type": "code",
      "source": [
        "print(average)"
      ],
      "metadata": {
        "colab": {
          "base_uri": "https://localhost:8080/"
        },
        "id": "DM7AWfb9FSpt",
        "outputId": "25ab23c5-a93e-4c1b-9c74-b6618a4b2916"
      },
      "execution_count": null,
      "outputs": [
        {
          "output_type": "stream",
          "name": "stdout",
          "text": [
            "15.0\n"
          ]
        }
      ]
    },
    {
      "cell_type": "markdown",
      "source": [
        "# 4)"
      ],
      "metadata": {
        "id": "g7ipc5IiHWNC"
      }
    },
    {
      "cell_type": "code",
      "source": [
        "#write a program to input 2 integer numbers, a and b. print True if a is greater than or equal to b. if not print False?\n",
        "A = int(input(\"enter first number:\"))\n",
        "B = int(input(\"enter second number:\"))\n"
      ],
      "metadata": {
        "colab": {
          "base_uri": "https://localhost:8080/"
        },
        "id": "Nw9BakZAFcF7",
        "outputId": "6c2e0441-c133-4dc6-b0f8-e171096f7873"
      },
      "execution_count": null,
      "outputs": [
        {
          "name": "stdout",
          "output_type": "stream",
          "text": [
            "enter first number:20\n",
            "enter second number:89\n"
          ]
        }
      ]
    },
    {
      "cell_type": "code",
      "source": [
        "A = 20\n",
        "B = 89\n",
        "print(A >= B)\n"
      ],
      "metadata": {
        "id": "Q-3pcGKPLeC0",
        "colab": {
          "base_uri": "https://localhost:8080/"
        },
        "outputId": "0b3a6bdb-7d1f-4df2-e4af-a92b1fb54f0f"
      },
      "execution_count": 3,
      "outputs": [
        {
          "output_type": "stream",
          "name": "stdout",
          "text": [
            "False\n"
          ]
        }
      ]
    },
    {
      "cell_type": "code",
      "source": [],
      "metadata": {
        "id": "tzgKrNR1NOBI"
      },
      "execution_count": null,
      "outputs": []
    }
  ]
}