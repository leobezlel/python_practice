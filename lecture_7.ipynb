{
  "nbformat": 4,
  "nbformat_minor": 0,
  "metadata": {
    "colab": {
      "provenance": [],
      "toc_visible": true,
      "authorship_tag": "ABX9TyMkWx4c/+tmXFLObW9zcnXH",
      "include_colab_link": true
    },
    "kernelspec": {
      "name": "python3",
      "display_name": "Python 3"
    },
    "language_info": {
      "name": "python"
    }
  },
  "cells": [
    {
      "cell_type": "markdown",
      "metadata": {
        "id": "view-in-github",
        "colab_type": "text"
      },
      "source": [
        "<a href=\"https://colab.research.google.com/github/leobezlel/excelr-assignments/blob/main/lecture_7.ipynb\" target=\"_parent\"><img src=\"https://colab.research.google.com/assets/colab-badge.svg\" alt=\"Open In Colab\"/></a>"
      ]
    },
    {
      "cell_type": "markdown",
      "source": [
        "# lecture_7.py"
      ],
      "metadata": {
        "id": "ZvcFRFAVf8X9"
      }
    },
    {
      "cell_type": "code",
      "source": [
        "name = \"This is a demo file\""
      ],
      "metadata": {
        "id": "UP6k2qFvgEaN"
      },
      "execution_count": 85,
      "outputs": []
    },
    {
      "cell_type": "markdown",
      "source": [
        "# demo.txt"
      ],
      "metadata": {
        "id": "sKF7bvvYgKTk"
      }
    },
    {
      "cell_type": "code",
      "source": [
        "f = open(\"demo.txt\", \"w\") #counts the entire file\n",
        "data = f.write(name)\n",
        "print(data)\n",
        "f.close()"
      ],
      "metadata": {
        "colab": {
          "base_uri": "https://localhost:8080/"
        },
        "id": "MN2RtbOZgMsF",
        "outputId": "faf4261a-8b83-4f07-f050-5ec69b71177f"
      },
      "execution_count": 86,
      "outputs": [
        {
          "output_type": "stream",
          "name": "stdout",
          "text": [
            "19\n"
          ]
        }
      ]
    },
    {
      "cell_type": "code",
      "source": [
        "f = open(\"demo.txt\", \"r\") #read the entire file\n",
        "data = f.read()\n",
        "print(data)\n",
        "f.close()"
      ],
      "metadata": {
        "colab": {
          "base_uri": "https://localhost:8080/"
        },
        "id": "9xjQtfkKgWNu",
        "outputId": "90ec2814-7fbf-4c02-e5fc-b1007a4c44fc"
      },
      "execution_count": 87,
      "outputs": [
        {
          "output_type": "stream",
          "name": "stdout",
          "text": [
            "This is a demo file\n"
          ]
        }
      ]
    },
    {
      "cell_type": "code",
      "source": [
        "f = open(\"demo.txt\", \"a\") #append the entire file (add one line at the end)\n",
        "data = f.write(\"\\nI want to learn python\")\n",
        "print(data)\n",
        "f.close()"
      ],
      "metadata": {
        "colab": {
          "base_uri": "https://localhost:8080/"
        },
        "id": "TGdyK6K6grIV",
        "outputId": "cf852a39-3a17-47c3-cf63-f912d4b44dc8"
      },
      "execution_count": 88,
      "outputs": [
        {
          "output_type": "stream",
          "name": "stdout",
          "text": [
            "23\n"
          ]
        }
      ]
    },
    {
      "cell_type": "code",
      "source": [
        "f = open(\"demo.txt\", \"r\")\n",
        "data = f.read()\n",
        "print(data)\n",
        "f.close()"
      ],
      "metadata": {
        "colab": {
          "base_uri": "https://localhost:8080/"
        },
        "id": "TW1P6E_GgvNE",
        "outputId": "e59844e3-3aa8-42a3-9db8-086a4f8f7b0c"
      },
      "execution_count": 89,
      "outputs": [
        {
          "output_type": "stream",
          "name": "stdout",
          "text": [
            "This is a demo file\n",
            "I want to learn python\n"
          ]
        }
      ]
    },
    {
      "cell_type": "code",
      "source": [
        "f = open(\"demo.txt\",\"w+\") #overwrite the entire file\n",
        "data = f.read()\n",
        "print(data)\n",
        "f.write(\"dsa is the best language\")\n",
        "f.close()"
      ],
      "metadata": {
        "colab": {
          "base_uri": "https://localhost:8080/"
        },
        "id": "V4PYtwUZjwtD",
        "outputId": "99d5d170-06fc-4c0b-cd8b-bc469b5ad702"
      },
      "execution_count": 90,
      "outputs": [
        {
          "output_type": "stream",
          "name": "stdout",
          "text": [
            "\n"
          ]
        }
      ]
    },
    {
      "cell_type": "code",
      "source": [
        "f = open(\"demo.txt\",\"r\")\n",
        "data = f.read()\n",
        "print(data)\n",
        "f.close()"
      ],
      "metadata": {
        "colab": {
          "base_uri": "https://localhost:8080/"
        },
        "id": "_r0IZGLQkgAS",
        "outputId": "d3a2700b-3c6d-4c10-ac22-f9156d4d9dd5"
      },
      "execution_count": 91,
      "outputs": [
        {
          "output_type": "stream",
          "name": "stdout",
          "text": [
            "dsa is the best language\n"
          ]
        }
      ]
    },
    {
      "cell_type": "code",
      "source": [
        "f = open(\"demo.txt\",\"r+\") #read and write the entire file\n",
        "data = f.read()\n",
        "print(data)\n",
        "f.write(\"\\njavascript is the best language\")\n",
        "f.close()"
      ],
      "metadata": {
        "colab": {
          "base_uri": "https://localhost:8080/"
        },
        "id": "2zpxLs21ni4l",
        "outputId": "26090d10-37d7-4a51-a4a6-9589b1ffe947"
      },
      "execution_count": 92,
      "outputs": [
        {
          "output_type": "stream",
          "name": "stdout",
          "text": [
            "dsa is the best language\n"
          ]
        }
      ]
    },
    {
      "cell_type": "code",
      "source": [
        "f = open(\"demo.txt\",\"r\")\n",
        "data = f.read()\n",
        "print(data)\n",
        "f.close()"
      ],
      "metadata": {
        "colab": {
          "base_uri": "https://localhost:8080/"
        },
        "id": "UHobXAGtnrwl",
        "outputId": "8aa5c58f-a729-49a2-9950-d6f39be29444"
      },
      "execution_count": 93,
      "outputs": [
        {
          "output_type": "stream",
          "name": "stdout",
          "text": [
            "dsa is the best language\n",
            "javascript is the best language\n"
          ]
        }
      ]
    },
    {
      "cell_type": "code",
      "source": [
        "f = open(\"demo.txt\",\"a+\")\n",
        "data = f.read()\n",
        "print(data)\n",
        "f.write(\"python,java,c++\")\n",
        "f.close()"
      ],
      "metadata": {
        "colab": {
          "base_uri": "https://localhost:8080/"
        },
        "id": "-Pz73jwenvkb",
        "outputId": "67e829e8-987e-4bc5-d9b7-27a0f704264f"
      },
      "execution_count": 94,
      "outputs": [
        {
          "output_type": "stream",
          "name": "stdout",
          "text": [
            "\n"
          ]
        }
      ]
    },
    {
      "cell_type": "code",
      "source": [
        "f = open(\"demo.txt\",\"r\")\n",
        "data = f.read()\n",
        "print(data)\n",
        "f.close()"
      ],
      "metadata": {
        "colab": {
          "base_uri": "https://localhost:8080/"
        },
        "id": "Xvqxemw3o47B",
        "outputId": "18e3120d-90a9-4ec0-e4a1-13cc3a4f6a88"
      },
      "execution_count": 95,
      "outputs": [
        {
          "output_type": "stream",
          "name": "stdout",
          "text": [
            "dsa is the best language\n",
            "javascript is the best languagepython,java,c++\n"
          ]
        }
      ]
    },
    {
      "cell_type": "code",
      "source": [
        "f = open(\"demo.txt\",\"w+\") #overwrite the entire file\n",
        "data = f.read()\n",
        "print(data)\n",
        "f.write(\"i am leobezlel currently learning python\")\n",
        "f.close()"
      ],
      "metadata": {
        "colab": {
          "base_uri": "https://localhost:8080/"
        },
        "id": "Qxy3_0axpqhQ",
        "outputId": "9eef217a-51d8-47b0-8fc3-0836df4212af"
      },
      "execution_count": 96,
      "outputs": [
        {
          "output_type": "stream",
          "name": "stdout",
          "text": [
            "\n"
          ]
        }
      ]
    },
    {
      "cell_type": "code",
      "source": [
        "#with syntax\n",
        "with open(\"demo.txt\",\"r\") as f:\n",
        "    data = f.read()\n",
        "    print(data)\n",
        "\n",
        "with open(\"demo.txt\",\"w\") as f:\n",
        "    f.write(\"newdata\")    #stored new data"
      ],
      "metadata": {
        "colab": {
          "base_uri": "https://localhost:8080/"
        },
        "id": "wIF-r5g8qB6J",
        "outputId": "219ee274-8ccb-49ef-837d-5746aeca3104"
      },
      "execution_count": 97,
      "outputs": [
        {
          "output_type": "stream",
          "name": "stdout",
          "text": [
            "i am leobezlel currently learning python\n"
          ]
        }
      ]
    },
    {
      "cell_type": "code",
      "source": [
        "f = open(\"demo.txt\",\"r\")\n",
        "data = f.read()\n",
        "print(data)\n",
        "f.close()"
      ],
      "metadata": {
        "colab": {
          "base_uri": "https://localhost:8080/"
        },
        "id": "E0NCqLlTsOC5",
        "outputId": "a6d4773e-b3d5-4f67-a975-a41a3d59ea00"
      },
      "execution_count": 98,
      "outputs": [
        {
          "output_type": "stream",
          "name": "stdout",
          "text": [
            "newdata\n"
          ]
        }
      ]
    },
    {
      "cell_type": "markdown",
      "source": [
        "# Practice questions"
      ],
      "metadata": {
        "id": "7hgk60VB389v"
      }
    },
    {
      "cell_type": "code",
      "source": [
        "#1) create a new file \"practice.txt\" using python.using following data\n",
        "with open(\"practice.txt\",\"w\") as f:\n",
        "    f.write(\"hii everyone\\nwe are learning file I/O\\nusing java\\ni like programming in java\")\n",
        "\n",
        "f = open(\"practice.txt\",\"r\")\n",
        "data = f.read()\n",
        "print(data)\n",
        "f.close()\n"
      ],
      "metadata": {
        "colab": {
          "base_uri": "https://localhost:8080/"
        },
        "id": "fNzJD9Yb4HH3",
        "outputId": "d4c0c624-fe2e-44e2-f5d8-e2ea0db2d60f"
      },
      "execution_count": 99,
      "outputs": [
        {
          "output_type": "stream",
          "name": "stdout",
          "text": [
            "hii everyone\n",
            "we are learning file I/O\n",
            "using java\n",
            "i like programming in java\n"
          ]
        }
      ]
    },
    {
      "cell_type": "code",
      "source": [
        "#2) Write a function that replace the occurences of \"java\" with \"python\" in above file.\n",
        "with open(\"practice.txt\",\"r+\") as f:\n",
        "    data = f.read()\n",
        "    data = data.replace(\"java\",\"python\")\n",
        "    print(data)\n",
        "    f.write(data)\n",
        "    f.close()"
      ],
      "metadata": {
        "colab": {
          "base_uri": "https://localhost:8080/"
        },
        "id": "DYSZi5jsAv4b",
        "outputId": "9d93a1bd-9d07-4e0e-8858-ff666e741dd6"
      },
      "execution_count": 100,
      "outputs": [
        {
          "output_type": "stream",
          "name": "stdout",
          "text": [
            "hii everyone\n",
            "we are learning file I/O\n",
            "using python\n",
            "i like programming in python\n"
          ]
        }
      ]
    },
    {
      "cell_type": "code",
      "source": [
        "#3)search if the word \"learning\" exists in file or not.\n",
        "with open(\"practice.txt\",\"r\") as f:\n",
        "    data = f.read()\n",
        "    if \"learning\" in data:\n",
        "        print(\"yes\")\n",
        "    else:\n",
        "        print(\"no\")"
      ],
      "metadata": {
        "colab": {
          "base_uri": "https://localhost:8080/"
        },
        "id": "8c_9jqTRCTOZ",
        "outputId": "44330b31-3f55-4fb0-e334-ed30a5148fff"
      },
      "execution_count": 101,
      "outputs": [
        {
          "output_type": "stream",
          "name": "stdout",
          "text": [
            "yes\n"
          ]
        }
      ]
    },
    {
      "cell_type": "code",
      "source": [
        "#4) WAF to find in which line of the file does the word \"learning\" occur first.print -1 if word not found.\n",
        "def check_for_line():\n",
        "    word = \"learning\"\n",
        "    data = True\n",
        "    line_no = 1\n",
        "    with open(\"practice.txt\",\"r\") as f:\n",
        "        while data :\n",
        "            data = f.readline()\n",
        "            if (word in data):\n",
        "                print(line_no)\n",
        "                return\n",
        "            line_no += 1\n",
        "\n",
        "check_for_line()\n",
        "\n",
        ""
      ],
      "metadata": {
        "colab": {
          "base_uri": "https://localhost:8080/"
        },
        "id": "jKHZhE3NDqDX",
        "outputId": "72756cf8-cf6f-4d1d-82a4-4ddd3603add4"
      },
      "execution_count": 102,
      "outputs": [
        {
          "output_type": "stream",
          "name": "stdout",
          "text": [
            "2\n"
          ]
        }
      ]
    }
  ]
}