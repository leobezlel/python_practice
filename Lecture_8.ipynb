{
  "nbformat": 4,
  "nbformat_minor": 0,
  "metadata": {
    "colab": {
      "provenance": [],
      "authorship_tag": "ABX9TyNM+yVDouqB49Je/ZhDBonU",
      "include_colab_link": true
    },
    "kernelspec": {
      "name": "python3",
      "display_name": "Python 3"
    },
    "language_info": {
      "name": "python"
    }
  },
  "cells": [
    {
      "cell_type": "markdown",
      "metadata": {
        "id": "view-in-github",
        "colab_type": "text"
      },
      "source": [
        "<a href=\"https://colab.research.google.com/github/leobezlel/excelr-assignments/blob/main/Lecture_8.ipynb\" target=\"_parent\"><img src=\"https://colab.research.google.com/assets/colab-badge.svg\" alt=\"Open In Colab\"/></a>"
      ]
    },
    {
      "cell_type": "markdown",
      "source": [
        "# OOPS in python (part-1)"
      ],
      "metadata": {
        "id": "cPnh7ryCesUW"
      }
    },
    {
      "cell_type": "code",
      "source": [
        "#class & object in python\n",
        "\n",
        "class student:     #creating class\n",
        "    name = \"leobezlel\"\n",
        "    age = 20\n",
        "    rollno = 25\n",
        "\n",
        "s1 = student()    #creating object\n",
        "print(s1.name)\n",
        "print(s1.age)\n",
        "print(s1.rollno)"
      ],
      "metadata": {
        "colab": {
          "base_uri": "https://localhost:8080/"
        },
        "id": "J0eF-wizfYIz",
        "outputId": "12a6ec09-5966-4154-fed2-7c1174dd482b"
      },
      "execution_count": 20,
      "outputs": [
        {
          "output_type": "stream",
          "name": "stdout",
          "text": [
            "leobezlel\n",
            "20\n",
            "25\n"
          ]
        }
      ]
    },
    {
      "cell_type": "code",
      "source": [
        "class car:\n",
        "    brand = \"TATA\"\n",
        "    color = \"black\"\n",
        "    model = 2024\n",
        "\n",
        "c1 = car()\n",
        "print(c1.brand)\n",
        "print(c1.color)\n",
        "print(c1.model)"
      ],
      "metadata": {
        "colab": {
          "base_uri": "https://localhost:8080/"
        },
        "id": "aTl8ltO5f05h",
        "outputId": "fc767d62-1f29-46d4-b22a-323912b25577"
      },
      "execution_count": 21,
      "outputs": [
        {
          "output_type": "stream",
          "name": "stdout",
          "text": [
            "TATA\n",
            "black\n",
            "2024\n"
          ]
        }
      ]
    },
    {
      "cell_type": "markdown",
      "source": [
        "# _ _init_ _ function"
      ],
      "metadata": {
        "id": "e7V5GxhThqmx"
      }
    },
    {
      "cell_type": "code",
      "source": [
        "class student:\n",
        "\n",
        "    def __init__(self,name):\n",
        "        self.name = name\n",
        "\n",
        "s1 = student(\"leobezlel\")\n",
        "print(s1.name)"
      ],
      "metadata": {
        "colab": {
          "base_uri": "https://localhost:8080/"
        },
        "id": "ePcHA3FohnDW",
        "outputId": "7c8c010f-470e-4eb4-c55b-e183d3f22a79"
      },
      "execution_count": 22,
      "outputs": [
        {
          "output_type": "stream",
          "name": "stdout",
          "text": [
            "leobezlel\n"
          ]
        }
      ]
    },
    {
      "cell_type": "code",
      "source": [
        "class student:\n",
        "\n",
        "\n",
        "    def __init__(self,name,age,rollno,marks): #creating class\n",
        "        self.name = name\n",
        "        self.age = age\n",
        "        self.rollno = rollno\n",
        "        self.marks = marks\n",
        "\n",
        "s1 = student(\"leobezlel\",20,25,91) #creating object\n",
        "print(s1.name)\n",
        "print(s1.age)\n",
        "print(s1.rollno)\n",
        "print(s1.marks)\n",
        "\n",
        "s2 = student(\"somu\",21,26,76)\n",
        "print(s2.name)\n",
        "print(s2.age)\n",
        "print(s2.rollno)\n",
        "print(s2.marks)"
      ],
      "metadata": {
        "colab": {
          "base_uri": "https://localhost:8080/"
        },
        "id": "Dbr-hVxrjwTZ",
        "outputId": "4e22bb56-baaf-4bb7-e842-53da25824a79"
      },
      "execution_count": 23,
      "outputs": [
        {
          "output_type": "stream",
          "name": "stdout",
          "text": [
            "leobezlel\n",
            "20\n",
            "25\n",
            "91\n",
            "somu\n",
            "21\n",
            "26\n",
            "76\n"
          ]
        }
      ]
    },
    {
      "cell_type": "code",
      "source": [
        "class student:\n",
        "\n",
        "    #default constructor\n",
        "    def __init__(self):\n",
        "        pass\n",
        "\n",
        "    #parameterized constructor\n",
        "    def __init__(self,name,age,rollno):\n",
        "        self.name = name\n",
        "        self.age = age\n",
        "        self.rollno = rollno\n",
        "\n",
        "s1 = student(\"vasu\",21,30)\n",
        "print(s1.name, s1.age, s1.rollno)"
      ],
      "metadata": {
        "colab": {
          "base_uri": "https://localhost:8080/"
        },
        "id": "pTrc99p4lv4I",
        "outputId": "73ddfd63-c0e3-4da1-8bed-dc92f2e483ed"
      },
      "execution_count": 24,
      "outputs": [
        {
          "output_type": "stream",
          "name": "stdout",
          "text": [
            "vasu 21 30\n"
          ]
        }
      ]
    },
    {
      "cell_type": "code",
      "source": [
        "class cars:\n",
        "    def __init__ (self,name,model,color):\n",
        "        Brand = \"SUZUKI\"\n",
        "        print(Brand)\n",
        "        self.name = name\n",
        "        self.model = model\n",
        "        self.color = color\n",
        "\n",
        "c1 = cars(\"swift\",2022,\"black\")\n",
        "print(c1.name,c1.model,c1.color)\n",
        "\n",
        "c2 = cars(\"scross\",2023,\"blue\")\n",
        "print(c2.name,c2.model,c2.color)"
      ],
      "metadata": {
        "colab": {
          "base_uri": "https://localhost:8080/"
        },
        "id": "OKgL5LumqvfV",
        "outputId": "8032bc86-ad82-4007-f785-29c8482c52c6"
      },
      "execution_count": 25,
      "outputs": [
        {
          "output_type": "stream",
          "name": "stdout",
          "text": [
            "SUZUKI\n",
            "swift 2022 black\n",
            "SUZUKI\n",
            "scross 2023 blue\n"
          ]
        }
      ]
    },
    {
      "cell_type": "markdown",
      "source": [
        "# Methods"
      ],
      "metadata": {
        "id": "46I9EfNQvWb7"
      }
    },
    {
      "cell_type": "code",
      "source": [
        "class student:\n",
        "    def __init__(self,name,age,rollno):\n",
        "        self.name = name\n",
        "        self.age = age\n",
        "        self.rollno = rollno\n",
        "\n",
        "    def welcome(self):\n",
        "        print(\"welcome student\",self.name)\n",
        "        print(\"your age is\",self.age)\n",
        "        print(\"your roll no is\",self.rollno)\n",
        "\n",
        "s1 = student(\"leobezlel\",20,25)\n",
        "s1.welcome()\n"
      ],
      "metadata": {
        "colab": {
          "base_uri": "https://localhost:8080/"
        },
        "id": "X_sJ2GhLt842",
        "outputId": "d38b6b7e-0289-41d0-e576-ac54d2925f44"
      },
      "execution_count": 26,
      "outputs": [
        {
          "output_type": "stream",
          "name": "stdout",
          "text": [
            "welcome student leobezlel\n",
            "your age is 20\n",
            "your roll no is 25\n"
          ]
        }
      ]
    },
    {
      "cell_type": "markdown",
      "source": [
        "# Practice questions"
      ],
      "metadata": {
        "id": "7I96L4TZxQYt"
      }
    },
    {
      "cell_type": "code",
      "source": [
        "#1) create student class that takes name & marks of 3 subjects as arguments in constructor. Then create a method to print the average\n",
        "class student:\n",
        "    def __init__(self,name,marks):\n",
        "        self.name = name\n",
        "        self.marks = marks\n",
        "\n",
        "    def average(self):\n",
        "        sum = 0\n",
        "        for i in self.marks:\n",
        "            sum += i\n",
        "        print(\"Hi\", self.name, \"your average score is\",sum/3)\n",
        "\n",
        "s1 = student(\"leobezlel\",[91,92,93])\n",
        "s1.average()"
      ],
      "metadata": {
        "colab": {
          "base_uri": "https://localhost:8080/"
        },
        "id": "luVA59OTvvsj",
        "outputId": "370000c9-122d-4ba7-d27d-d6627b1e4981"
      },
      "execution_count": 27,
      "outputs": [
        {
          "output_type": "stream",
          "name": "stdout",
          "text": [
            "Hi leobezlel your average score is 92.0\n"
          ]
        }
      ]
    },
    {
      "cell_type": "markdown",
      "source": [
        "# Static methods"
      ],
      "metadata": {
        "id": "OSPWfzM70xcN"
      }
    },
    {
      "cell_type": "code",
      "source": [
        "class student:\n",
        "\n",
        "    def __init__(self,name):\n",
        "        self.name = name\n",
        "\n",
        "    @staticmethod\n",
        "    def age():\n",
        "        print(22)\n",
        "\n",
        "s1 = student(\"leobezlel\")\n",
        "print(s1.name)\n",
        "s1.age()"
      ],
      "metadata": {
        "colab": {
          "base_uri": "https://localhost:8080/"
        },
        "id": "oZBG0FJB3tRJ",
        "outputId": "fde33592-29f3-4f0b-f836-4eb86be7849e"
      },
      "execution_count": 28,
      "outputs": [
        {
          "output_type": "stream",
          "name": "stdout",
          "text": [
            "leobezlel\n",
            "22\n"
          ]
        }
      ]
    },
    {
      "cell_type": "markdown",
      "source": [
        "# Practice questions"
      ],
      "metadata": {
        "id": "W-dVvsml9DDu"
      }
    },
    {
      "cell_type": "code",
      "source": [
        "#3)create Account class with 2 attributes - balance and account no.\n",
        "\n",
        "class Account:\n",
        "    def __init__(self,balance,account_no):\n",
        "        self.balance = balance\n",
        "        self.account_no = account_no\n",
        "\n",
        "acc1 = Account(5350, 60201258670)\n",
        "print(acc1.account_no)\n",
        "print(acc1.balance)"
      ],
      "metadata": {
        "colab": {
          "base_uri": "https://localhost:8080/"
        },
        "id": "EYeecPSu8VSK",
        "outputId": "ef7f33f6-6683-4353-b71a-517baa19968f"
      },
      "execution_count": 29,
      "outputs": [
        {
          "output_type": "stream",
          "name": "stdout",
          "text": [
            "60201258670\n",
            "5350\n"
          ]
        }
      ]
    },
    {
      "cell_type": "code",
      "source": [
        "#4)create methods for debit, credit & printing the balance.\n",
        "\n",
        "class Account:\n",
        "    def __init__(self,balance,account_no):\n",
        "        self.balance = balance\n",
        "        self.account_no = account_no\n",
        "\n",
        "    def debit(self, amount):\n",
        "        self.balance -= amount\n",
        "        print(\"RS.\", amount, \"was debited\")\n",
        "        print(\"Total balance =\",self.balance)\n",
        "\n",
        "    def credit(self, amount):\n",
        "        self.balance += amount\n",
        "        print(\"RS.\", amount, \"was credited\")\n",
        "        print(\"Total balance =\",self.balance)\n",
        "\n",
        "acc1 = Account(5350, 60201258670)\n",
        "acc1.debit(1000)\n",
        "acc1.credit(2000)"
      ],
      "metadata": {
        "colab": {
          "base_uri": "https://localhost:8080/"
        },
        "id": "REJbzqVh-NBD",
        "outputId": "7372f4b1-9511-4293-e2d9-87530087d58d"
      },
      "execution_count": 30,
      "outputs": [
        {
          "output_type": "stream",
          "name": "stdout",
          "text": [
            "RS. 1000 was debited\n",
            "Total balance = 4350\n",
            "RS. 2000 was credited\n",
            "Total balance = 6350\n"
          ]
        }
      ]
    },
    {
      "cell_type": "markdown",
      "source": [
        "# OOPS in python (part-2)"
      ],
      "metadata": {
        "id": "jPVFU4iiBsuh"
      }
    },
    {
      "cell_type": "markdown",
      "source": [
        "# private(like) attributes & methods"
      ],
      "metadata": {
        "id": "7dgCB-8G4vRe"
      }
    },
    {
      "cell_type": "code",
      "source": [
        "class account:\n",
        "\n",
        "    def __init__(self, acc_no, acc_pass):\n",
        "        self.acc_no = acc_no\n",
        "        self.acc_pass = acc_pass\n",
        "\n",
        "acc1 = account(\"987654321\", \"leo@12345\")\n",
        "print(acc1.acc_no)\n",
        "print(acc1.acc_pass)"
      ],
      "metadata": {
        "colab": {
          "base_uri": "https://localhost:8080/"
        },
        "id": "8thjwhVH11gJ",
        "outputId": "943f39ff-76d1-46dc-8e46-41ad633eb3e2"
      },
      "execution_count": 31,
      "outputs": [
        {
          "output_type": "stream",
          "name": "stdout",
          "text": [
            "987654321\n",
            "leo@12345\n"
          ]
        }
      ]
    },
    {
      "cell_type": "code",
      "source": [
        "class person:\n",
        "\n",
        "    def __hello(self):\n",
        "        print(\"hello\")\n",
        "\n",
        "    def welcome(self):\n",
        "        self.__hello()\n",
        "\n",
        "p1 = person()\n",
        "\n",
        "print(p1.welcome())"
      ],
      "metadata": {
        "colab": {
          "base_uri": "https://localhost:8080/"
        },
        "id": "tx8haLrl5pmq",
        "outputId": "df625b46-18af-4c64-9a91-32577a7e2e50"
      },
      "execution_count": 32,
      "outputs": [
        {
          "output_type": "stream",
          "name": "stdout",
          "text": [
            "hello\n",
            "None\n"
          ]
        }
      ]
    },
    {
      "cell_type": "code",
      "source": [
        "class car:\n",
        "\n",
        "    def __Brand(self):\n",
        "        print(\"TATA indica\")\n",
        "\n",
        "    def car(self):\n",
        "        self.__Brand()\n",
        "\n",
        "c1 = car()\n",
        "\n",
        "print(c1.car())"
      ],
      "metadata": {
        "colab": {
          "base_uri": "https://localhost:8080/"
        },
        "id": "4_t-rc_m-adZ",
        "outputId": "987becab-2ae3-4602-da52-d2a49981cf34"
      },
      "execution_count": 33,
      "outputs": [
        {
          "output_type": "stream",
          "name": "stdout",
          "text": [
            "TATA indica\n",
            "None\n"
          ]
        }
      ]
    },
    {
      "cell_type": "markdown",
      "source": [
        "# Inheritance"
      ],
      "metadata": {
        "id": "No8UruvnCWTi"
      }
    },
    {
      "cell_type": "code",
      "source": [
        "# Single inheritance\n",
        "\n",
        "class car:  #parent class\n",
        "    color = \"red\"\n",
        "\n",
        "    @staticmethod\n",
        "    def start():\n",
        "        print(\"car started\")\n",
        "\n",
        "    @staticmethod\n",
        "    def stop():\n",
        "        print(\"car stopped\")\n",
        "\n",
        "class toyotacar(car):   #child class\n",
        "     def __init__(self,name):\n",
        "        self.name = name\n",
        "\n",
        "c1 = toyotacar(\"fortuner\")\n",
        "c2 = toyotacar(\"prius\")\n",
        "\n",
        "print(c1.name)\n",
        "print(c1.start())\n",
        "print(c1.color)"
      ],
      "metadata": {
        "colab": {
          "base_uri": "https://localhost:8080/"
        },
        "id": "tamDlP3TAk_G",
        "outputId": "940e6ea6-d68c-4dcb-a048-786ae8317dfb"
      },
      "execution_count": 34,
      "outputs": [
        {
          "output_type": "stream",
          "name": "stdout",
          "text": [
            "fortuner\n",
            "car started\n",
            "None\n",
            "red\n"
          ]
        }
      ]
    },
    {
      "cell_type": "code",
      "source": [
        "# Multi-level inheritance\n",
        "\n",
        "class car:  #parent class\n",
        "    color = \"red\"\n",
        "\n",
        "    @staticmethod\n",
        "    def start():\n",
        "        print(\"car started\")\n",
        "\n",
        "    @staticmethod\n",
        "    def stop():\n",
        "        print(\"car stopped\")\n",
        "\n",
        "class toyotacar(car):   #child class / parent class\n",
        "     def __init__(self,brand):\n",
        "        self.brand = brand\n",
        "\n",
        "class fortuner(toyotacar):  #grandchild class / child class\n",
        "    def __init__(self,type):\n",
        "        self.type = type\n",
        "\n",
        "c1 = fortuner(\"petrol\")\n",
        "print(c1.start())\n",
        "print(c1.type)\n",
        "\n"
      ],
      "metadata": {
        "colab": {
          "base_uri": "https://localhost:8080/"
        },
        "id": "3yOF1cu7DCya",
        "outputId": "58f2ebed-379b-4b57-f2e2-f71241b9e60e"
      },
      "execution_count": 35,
      "outputs": [
        {
          "output_type": "stream",
          "name": "stdout",
          "text": [
            "car started\n",
            "None\n",
            "petrol\n"
          ]
        }
      ]
    },
    {
      "cell_type": "code",
      "source": [
        "# Multiple inheritance\n",
        "\n",
        "class A:\n",
        "    varA = \"welcome to class A\"\n",
        "\n",
        "class B:\n",
        "    varB = \"welcome to class B\"\n",
        "\n",
        "class C(A, B):\n",
        "    varC = \"welcome to class C\"\n",
        "\n",
        "c1 = C()\n",
        "print(c1.varC)\n",
        "print(c1.varB)\n",
        "print(c1.varA)"
      ],
      "metadata": {
        "colab": {
          "base_uri": "https://localhost:8080/"
        },
        "id": "H77LI0yRFeUz",
        "outputId": "844118f8-a3ca-4d87-c201-8a09c9f05501"
      },
      "execution_count": 36,
      "outputs": [
        {
          "output_type": "stream",
          "name": "stdout",
          "text": [
            "welcome to class C\n",
            "welcome to class B\n",
            "welcome to class A\n"
          ]
        }
      ]
    },
    {
      "cell_type": "markdown",
      "source": [
        "# Super methods"
      ],
      "metadata": {
        "id": "j-aolppxJTJ0"
      }
    },
    {
      "cell_type": "code",
      "source": [
        "class car:  #parent class\n",
        "    def __init__ (self,type):\n",
        "        self.type = type\n",
        "\n",
        "    @staticmethod\n",
        "    def start():\n",
        "        print(\"car started\")\n",
        "\n",
        "    @staticmethod\n",
        "    def stop():\n",
        "        print(\"car stopped\")\n",
        "\n",
        "class toyotacar(car):   #child class\n",
        "     def __init__(self,name,type):\n",
        "        self.name = name\n",
        "\n",
        "        super(). __init__(type) #super method\n",
        "        super().start()\n",
        "\n",
        "c1 = toyotacar(\"forutuner\",\"electric\")\n",
        "print(c1.type)\n"
      ],
      "metadata": {
        "colab": {
          "base_uri": "https://localhost:8080/"
        },
        "id": "Lu5Gff_cI4Ij",
        "outputId": "51915e9e-9b40-4c0f-c514-204c669baf2a"
      },
      "execution_count": 37,
      "outputs": [
        {
          "output_type": "stream",
          "name": "stdout",
          "text": [
            "car started\n",
            "electric\n"
          ]
        }
      ]
    },
    {
      "cell_type": "markdown",
      "source": [
        "# class method"
      ],
      "metadata": {
        "id": "MYF3O7Uc0zfK"
      }
    },
    {
      "cell_type": "code",
      "source": [
        "class person:\n",
        "    name = \"leobezlel\"\n",
        "    age = 20\n",
        "\n",
        "    @classmethod\n",
        "    def welcome(cls):\n",
        "        print(\"welcome\",cls.name)\n",
        "        print(\"your age is\",cls.age)\n",
        "\n",
        "    def changeName(self,name):\n",
        "        self.name = name\n",
        "\n",
        "p1 = person()\n",
        "p1.changeName(\"somu\")\n",
        "print(p1.name)\n",
        "print(person.name)\n",
        "print(p1.age)"
      ],
      "metadata": {
        "colab": {
          "base_uri": "https://localhost:8080/"
        },
        "id": "5DH7hk_eKj1_",
        "outputId": "cde086a7-ab84-4cba-84b7-703d1818627e"
      },
      "execution_count": 38,
      "outputs": [
        {
          "output_type": "stream",
          "name": "stdout",
          "text": [
            "somu\n",
            "leobezlel\n",
            "20\n"
          ]
        }
      ]
    },
    {
      "cell_type": "code",
      "source": [
        "class person:\n",
        "    name = \"anonymous\"\n",
        "\n",
        "    @classmethod\n",
        "    def changeName(cls, name):\n",
        "        cls.name = name\n",
        "\n",
        "p1 = person()\n",
        "p1.changeName(\"leo\")\n",
        "print(p1.name)\n",
        ""
      ],
      "metadata": {
        "colab": {
          "base_uri": "https://localhost:8080/"
        },
        "id": "zNW7CeM22-Tu",
        "outputId": "3a98f151-6ab1-49f5-bedf-6fb34765162e"
      },
      "execution_count": 39,
      "outputs": [
        {
          "output_type": "stream",
          "name": "stdout",
          "text": [
            "leo\n"
          ]
        }
      ]
    },
    {
      "cell_type": "markdown",
      "source": [
        "# property"
      ],
      "metadata": {
        "id": "PO6lj-tn69p3"
      }
    },
    {
      "cell_type": "code",
      "source": [
        "class student:\n",
        "    def __init__(self, phy, chem, math):\n",
        "        self.phy = phy\n",
        "        self.chem = chem\n",
        "        self.math = math\n",
        "\n",
        "    @property\n",
        "    def percentage(self):\n",
        "        return str((self.phy + self.chem + self.math) / 3) + \"%\"\n",
        "\n",
        "s1 = student(82, 86, 94)\n",
        "print(s1.percentage)\n",
        "\n",
        "stu1.phy = 92\n",
        "print(stu1.percentage)\n"
      ],
      "metadata": {
        "colab": {
          "base_uri": "https://localhost:8080/"
        },
        "id": "WtS_122k98Y0",
        "outputId": "63adbee0-e5fd-42b0-9cee-976e7762a373"
      },
      "execution_count": 43,
      "outputs": [
        {
          "output_type": "stream",
          "name": "stdout",
          "text": [
            "87.33333333333333%\n",
            "97.0%\n"
          ]
        }
      ]
    },
    {
      "cell_type": "markdown",
      "source": [
        "# polymorphism"
      ],
      "metadata": {
        "id": "yPzuVJvzDTeP"
      }
    },
    {
      "cell_type": "code",
      "source": [
        "class complex:\n",
        "    def __init__(self, real, img):\n",
        "        self.real = real\n",
        "        self.img = img\n",
        "\n",
        "    def shownumber(self):\n",
        "        print(self.real,\"i +\", self.img,\"j\")\n",
        "\n",
        "    def __add__(self, num2):  #dunder function\n",
        "        newReal = self.real + num2.real\n",
        "        newimg = self.img + num2.img\n",
        "        return complex(newReal, newimg)\n",
        "\n",
        "num1 = complex(1,4)\n",
        "num1.shownumber()\n",
        "\n",
        "num2 = complex(5,3)\n",
        "num2.shownumber()\n",
        "\n",
        "num3 = num1 + num2\n",
        "num3.shownumber()\n"
      ],
      "metadata": {
        "colab": {
          "base_uri": "https://localhost:8080/"
        },
        "id": "DuhodC2yFOWQ",
        "outputId": "100b6af4-df48-4401-fc94-b1209cd7686f"
      },
      "execution_count": 56,
      "outputs": [
        {
          "output_type": "stream",
          "name": "stdout",
          "text": [
            "1 i + 4 j\n",
            "5 i + 3 j\n",
            "6 i + 7 j\n"
          ]
        }
      ]
    },
    {
      "cell_type": "markdown",
      "source": [
        "# practice questions"
      ],
      "metadata": {
        "id": "KO7Mwt_vI-Y9"
      }
    },
    {
      "cell_type": "code",
      "source": [
        "#1) define a circle class to create a circle with radius r using the constructor.\n",
        "\n",
        "class circle:\n",
        "    def __init__(self,r):\n",
        "        self.r = r\n",
        "\n",
        "c1 = circle(21)\n",
        "print(c1.r)"
      ],
      "metadata": {
        "colab": {
          "base_uri": "https://localhost:8080/"
        },
        "id": "2udaVtVZGbkC",
        "outputId": "9c45ca12-2336-4a5f-e431-b9dd32bcfc4f"
      },
      "execution_count": 66,
      "outputs": [
        {
          "output_type": "stream",
          "name": "stdout",
          "text": [
            "21\n"
          ]
        }
      ]
    },
    {
      "cell_type": "code",
      "source": [
        "#2)define an area() method of the class which calculates the area of the circle.\n",
        "\n",
        "class circle:\n",
        "    def __init__(self,r):\n",
        "        self.r = r\n",
        "\n",
        "    def area(self):\n",
        "        return 3.14 * self.r * self.r\n",
        "\n",
        "c1 = circle(21)\n",
        "print(c1.area())"
      ],
      "metadata": {
        "colab": {
          "base_uri": "https://localhost:8080/"
        },
        "id": "aRDUXYSbJ4pS",
        "outputId": "4d3c5599-2bd8-4f14-be12-9f4cc6f6911f"
      },
      "execution_count": 65,
      "outputs": [
        {
          "output_type": "stream",
          "name": "stdout",
          "text": [
            "1384.74\n"
          ]
        }
      ]
    },
    {
      "cell_type": "code",
      "source": [
        "#3)define a perimeter() method of the class hich allows you to calculate the perimeter of the circle.\n",
        "\n",
        "class circle:\n",
        "    def __init__(self,r):\n",
        "        self.r = r\n",
        "\n",
        "    def perimeter(self):\n",
        "        return 2 * 3.14 * self.r\n",
        "\n",
        "c1 = circle(21)\n",
        "print(c1.perimeter())"
      ],
      "metadata": {
        "colab": {
          "base_uri": "https://localhost:8080/"
        },
        "id": "x3iJtrYsKTO4",
        "outputId": "46e2db21-cbcb-44fe-8921-f60c8db0103b"
      },
      "execution_count": 64,
      "outputs": [
        {
          "output_type": "stream",
          "name": "stdout",
          "text": [
            "131.88\n"
          ]
        }
      ]
    },
    {
      "cell_type": "code",
      "source": [
        "#4)define a employee class with attributes role, department & salary. this class also has a showdetails() method.\n",
        "\n",
        "class employee:\n",
        "    def __init__(self,role,department,salary):\n",
        "        self.role = role\n",
        "        self.department = department\n",
        "        self.salary = salary\n",
        "\n",
        "    def showdetails(self):\n",
        "        print(\"role:\",self.role)\n",
        "        print(\"department:\",self.department)\n",
        "        print(\"salary:\",self.salary)\n",
        "\n",
        "e1 = employee(\"Accountant\",\"finance\",50000)\n",
        "e1.showdetails()"
      ],
      "metadata": {
        "colab": {
          "base_uri": "https://localhost:8080/"
        },
        "id": "ystpYesiK0m0",
        "outputId": "0f1372f5-e3a7-4a90-bee2-ad093fa4cd3e"
      },
      "execution_count": 68,
      "outputs": [
        {
          "output_type": "stream",
          "name": "stdout",
          "text": [
            "role: Accountant\n",
            "department: finance\n",
            "salary: 50000\n"
          ]
        }
      ]
    },
    {
      "cell_type": "code",
      "source": [
        "#5)create an engineer class that inherits properties from employee & has additional attributes : name & age.\n",
        "\n",
        "class employee:\n",
        "    def __init__(self,role,department,salary):\n",
        "        self.role = role\n",
        "        self.department = department\n",
        "        self.salary = salary\n",
        "\n",
        "    def showdetails(self):\n",
        "        print(\"role:\",self.role)\n",
        "        print(\"department:\",self.department)\n",
        "        print(\"salary:\",self.salary)\n",
        "\n",
        "class engineer(employee):\n",
        "    def __init__(self,name,age):\n",
        "        self.name = name\n",
        "        self.age = age\n",
        "        super(). __init__(\"Engineer\",\"artificial intelligence\",\"40,000\")\n",
        "\n",
        "e1 = engineer(\"leobezlel\",22)\n",
        "print(e1.name)\n",
        "print(e1.age)\n",
        "e1.showdetails()"
      ],
      "metadata": {
        "colab": {
          "base_uri": "https://localhost:8080/"
        },
        "id": "wxSyFXWAL1YR",
        "outputId": "277cece0-0bc1-4ffc-83fc-f1fac47381f1"
      },
      "execution_count": 79,
      "outputs": [
        {
          "output_type": "stream",
          "name": "stdout",
          "text": [
            "leobezlel\n",
            "22\n",
            "role: Engineer\n",
            "department: artificial intelligence\n",
            "salary: 40,000\n"
          ]
        }
      ]
    },
    {
      "cell_type": "code",
      "source": [
        "#6) create a class called order which stores item & its price. use dunder function __gt__() to convey that:\n",
        "# order1 > order2 if price of order1 > price of order2\n",
        "\n",
        "class order:\n",
        "    def __init__(self,item, price):\n",
        "        self.item = item\n",
        "        self.price = price\n",
        "\n",
        "    def __gt__(self, ord2): #greater than dunder function\n",
        "        return self.price > ord2.price\n",
        "\n",
        "ord1 = order(\"dairymilkslik\", 60)\n",
        "ord2 = order(\"\\nBingolays\", 20)\n",
        "\n",
        "print(ord1 > ord2)"
      ],
      "metadata": {
        "colab": {
          "base_uri": "https://localhost:8080/"
        },
        "id": "WN1nyx8rOO79",
        "outputId": "1bd83df6-7681-42a1-9e7a-612e724b50d7"
      },
      "execution_count": 85,
      "outputs": [
        {
          "output_type": "stream",
          "name": "stdout",
          "text": [
            "True\n"
          ]
        }
      ]
    }
  ]
}