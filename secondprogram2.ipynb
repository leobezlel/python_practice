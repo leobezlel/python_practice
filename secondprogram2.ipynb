{
  "nbformat": 4,
  "nbformat_minor": 0,
  "metadata": {
    "colab": {
      "provenance": [],
      "authorship_tag": "ABX9TyMr9xZvUxP7jG9n1sRwD3P6",
      "include_colab_link": true
    },
    "kernelspec": {
      "name": "python3",
      "display_name": "Python 3"
    },
    "language_info": {
      "name": "python"
    }
  },
  "cells": [
    {
      "cell_type": "markdown",
      "metadata": {
        "id": "view-in-github",
        "colab_type": "text"
      },
      "source": [
        "<a href=\"https://colab.research.google.com/github/leobezlel/excelr-assignments/blob/main/secondprogram2.ipynb\" target=\"_parent\"><img src=\"https://colab.research.google.com/assets/colab-badge.svg\" alt=\"Open In Colab\"/></a>"
      ]
    },
    {
      "cell_type": "markdown",
      "source": [
        "# Conditional statements"
      ],
      "metadata": {
        "id": "Ud_KlbTNWje8"
      }
    },
    {
      "cell_type": "code",
      "source": [
        "light = (input(\"light color:\"))"
      ],
      "metadata": {
        "colab": {
          "base_uri": "https://localhost:8080/"
        },
        "id": "leUPgnhpXKO0",
        "outputId": "afecae1f-91da-4d8c-dc7b-263e2049c61e"
      },
      "execution_count": null,
      "outputs": [
        {
          "name": "stdout",
          "output_type": "stream",
          "text": [
            "light color:yellow\n"
          ]
        }
      ]
    },
    {
      "cell_type": "code",
      "source": [
        "if (light == (\"red\")):\n",
        "     print(\"stop\")"
      ],
      "metadata": {
        "id": "2zbGwbp8Xf5W"
      },
      "execution_count": null,
      "outputs": []
    },
    {
      "cell_type": "code",
      "source": [
        "if(light == (\"green\")):\n",
        "      print(\"go\")"
      ],
      "metadata": {
        "id": "j8CORuKPXpjS"
      },
      "execution_count": null,
      "outputs": []
    },
    {
      "cell_type": "code",
      "source": [
        "if (light == (\"yellow\")):\n",
        "      print(\"look\")"
      ],
      "metadata": {
        "colab": {
          "base_uri": "https://localhost:8080/"
        },
        "id": "gE-uTg6LXyf_",
        "outputId": "32e657de-33c3-4be4-d2b4-d869487e5f27"
      },
      "execution_count": null,
      "outputs": [
        {
          "output_type": "stream",
          "name": "stdout",
          "text": [
            "look\n"
          ]
        }
      ]
    },
    {
      "cell_type": "code",
      "source": [
        "food = input(\"food:\")"
      ],
      "metadata": {
        "colab": {
          "base_uri": "https://localhost:8080/"
        },
        "id": "iySk-jJt_cRe",
        "outputId": "661b8213-8b37-4126-c2bf-f50dcaae2a15"
      },
      "execution_count": null,
      "outputs": [
        {
          "name": "stdout",
          "output_type": "stream",
          "text": [
            "food:cake\n"
          ]
        }
      ]
    },
    {
      "cell_type": "code",
      "source": [
        "age = int(input(\"age:\"))\n",
        "vote =(\"yes\" , \"no\") [age < 18]"
      ],
      "metadata": {
        "colab": {
          "base_uri": "https://localhost:8080/"
        },
        "id": "wNwXoCbuATgu",
        "outputId": "9e344ad7-2688-491b-b289-6d00f7d5c13f"
      },
      "execution_count": null,
      "outputs": [
        {
          "name": "stdout",
          "output_type": "stream",
          "text": [
            "age:15\n"
          ]
        }
      ]
    },
    {
      "cell_type": "code",
      "source": [
        "print(vote)"
      ],
      "metadata": {
        "colab": {
          "base_uri": "https://localhost:8080/"
        },
        "id": "wW7ydjoHFhgs",
        "outputId": "ff43ef5a-1aa4-442b-cadd-66225896d09d"
      },
      "execution_count": null,
      "outputs": [
        {
          "output_type": "stream",
          "name": "stdout",
          "text": [
            "no\n"
          ]
        }
      ]
    },
    {
      "cell_type": "markdown",
      "source": [
        "# Types of operators"
      ],
      "metadata": {
        "id": "8SBir48vKQbL"
      }
    },
    {
      "cell_type": "markdown",
      "source": [
        "# Arithmetic operators)"
      ],
      "metadata": {
        "id": "73ipyjt5KfMo"
      }
    },
    {
      "cell_type": "code",
      "source": [
        "A = 5\n",
        "B = 2"
      ],
      "metadata": {
        "id": "QeiR7lANFk1P"
      },
      "execution_count": null,
      "outputs": []
    },
    {
      "cell_type": "code",
      "source": [
        "print(A + B)\n",
        "print(A - B)\n",
        "print(A * B)\n",
        "print(A / B)\n",
        "print(A ** B) #A^B\n",
        "print(A % B) #remainder"
      ],
      "metadata": {
        "colab": {
          "base_uri": "https://localhost:8080/"
        },
        "id": "Jx8vvetiLANY",
        "outputId": "3c84b4be-2dc2-4977-f91d-ced9a528926c"
      },
      "execution_count": null,
      "outputs": [
        {
          "output_type": "stream",
          "name": "stdout",
          "text": [
            "7\n",
            "3\n",
            "10\n",
            "2.5\n",
            "25\n",
            "1\n"
          ]
        }
      ]
    },
    {
      "cell_type": "markdown",
      "source": [
        "# Relational / comparison operators)"
      ],
      "metadata": {
        "id": "SXtSRIP4Ludw"
      }
    },
    {
      "cell_type": "code",
      "source": [
        "a = 50\n",
        "b = 20"
      ],
      "metadata": {
        "id": "mhq6Loh_LSY5"
      },
      "execution_count": null,
      "outputs": []
    },
    {
      "cell_type": "code",
      "source": [
        "print(a == b) #equals to\n",
        "print(a != b) #not equals to\n",
        "print(a >= b)\n",
        "print(a > b)\n",
        "print(a < b)\n",
        "print(a <= b)"
      ],
      "metadata": {
        "colab": {
          "base_uri": "https://localhost:8080/"
        },
        "id": "sUNXkRntL79K",
        "outputId": "7e4aef8b-cfb9-455f-fbd5-9f05dfe7d473"
      },
      "execution_count": null,
      "outputs": [
        {
          "output_type": "stream",
          "name": "stdout",
          "text": [
            "False\n",
            "True\n",
            "True\n",
            "True\n",
            "False\n",
            "False\n"
          ]
        }
      ]
    },
    {
      "cell_type": "markdown",
      "source": [
        "# Assignment operators)"
      ],
      "metadata": {
        "id": "5R0fhjWeMbNr"
      }
    },
    {
      "cell_type": "code",
      "source": [
        "num = 10\n",
        "num = num + 10\n",
        "print(num)"
      ],
      "metadata": {
        "colab": {
          "base_uri": "https://localhost:8080/"
        },
        "id": "3R26GwJ7MQXD",
        "outputId": "46cc99a1-36f5-4f3d-c838-cca78f8cae0f"
      },
      "execution_count": null,
      "outputs": [
        {
          "output_type": "stream",
          "name": "stdout",
          "text": [
            "20\n"
          ]
        }
      ]
    },
    {
      "cell_type": "code",
      "source": [
        "num = 10\n",
        "num += 10\n",
        "print(num)"
      ],
      "metadata": {
        "colab": {
          "base_uri": "https://localhost:8080/"
        },
        "id": "64xl7_sNNHaB",
        "outputId": "ca4c3a33-60b6-4743-faf4-9e1bd3fa667e"
      },
      "execution_count": null,
      "outputs": [
        {
          "output_type": "stream",
          "name": "stdout",
          "text": [
            "20\n"
          ]
        }
      ]
    },
    {
      "cell_type": "code",
      "source": [
        "num = 10\n",
        "num -= 10\n",
        "print(num)"
      ],
      "metadata": {
        "colab": {
          "base_uri": "https://localhost:8080/"
        },
        "id": "1qPphLooNR4v",
        "outputId": "67661ebd-01b2-4e93-eab7-283b4c4c5c49"
      },
      "execution_count": null,
      "outputs": [
        {
          "output_type": "stream",
          "name": "stdout",
          "text": [
            "0\n"
          ]
        }
      ]
    },
    {
      "cell_type": "code",
      "source": [
        "num = 10\n",
        "num *= 10\n",
        "print(num)"
      ],
      "metadata": {
        "colab": {
          "base_uri": "https://localhost:8080/"
        },
        "id": "LspZBVrtNWyS",
        "outputId": "87c44f12-9179-4ef2-8090-e16d6d86c237"
      },
      "execution_count": null,
      "outputs": [
        {
          "output_type": "stream",
          "name": "stdout",
          "text": [
            "100\n"
          ]
        }
      ]
    },
    {
      "cell_type": "code",
      "source": [
        "num = 10\n",
        "num /= 10\n",
        "print(num)"
      ],
      "metadata": {
        "colab": {
          "base_uri": "https://localhost:8080/"
        },
        "id": "RLVLFECXNf3h",
        "outputId": "8f600a1e-15af-498b-902a-936c7dbaf3cf"
      },
      "execution_count": null,
      "outputs": [
        {
          "output_type": "stream",
          "name": "stdout",
          "text": [
            "1.0\n"
          ]
        }
      ]
    },
    {
      "cell_type": "code",
      "source": [
        "num = 10\n",
        "num %= 10\n",
        "print(num)"
      ],
      "metadata": {
        "colab": {
          "base_uri": "https://localhost:8080/"
        },
        "id": "ngd5olIQNmMA",
        "outputId": "3b918b0d-23dd-48bf-f025-9e801807fa40"
      },
      "execution_count": null,
      "outputs": [
        {
          "output_type": "stream",
          "name": "stdout",
          "text": [
            "0\n"
          ]
        }
      ]
    },
    {
      "cell_type": "code",
      "source": [
        "num = 10\n",
        "num **= 10\n",
        "print(num)"
      ],
      "metadata": {
        "colab": {
          "base_uri": "https://localhost:8080/"
        },
        "id": "5EujE1X5Nszo",
        "outputId": "ff24a6d3-3f0a-4e62-99f3-211e9a6036ed"
      },
      "execution_count": null,
      "outputs": [
        {
          "output_type": "stream",
          "name": "stdout",
          "text": [
            "10000000000\n"
          ]
        }
      ]
    },
    {
      "cell_type": "markdown",
      "source": [
        "# Logical operators)"
      ],
      "metadata": {
        "id": "NKg9dmP3ORvc"
      }
    },
    {
      "cell_type": "code",
      "source": [
        "a = 50\n",
        "b = 30\n",
        "\n",
        "print(not(a>b)) #not operator"
      ],
      "metadata": {
        "colab": {
          "base_uri": "https://localhost:8080/"
        },
        "id": "EGbuV39iN1M2",
        "outputId": "5380cdf0-c1ff-4da0-d953-49b69c305295"
      },
      "execution_count": null,
      "outputs": [
        {
          "output_type": "stream",
          "name": "stdout",
          "text": [
            "False\n"
          ]
        }
      ]
    },
    {
      "cell_type": "code",
      "source": [
        "a = 50\n",
        "b = 30\n",
        "val1 = True\n",
        "val2 = False\n",
        "\n",
        "print(\"And operator:\", val1 and val2) #AND operator\n",
        "print(\"Or operator:\", val1 or val2) #OR operator\n",
        "print(\"and operator:\", (a == b) and (a > b)) #example\n",
        "print(\"or operator:\", (a == b) or (a > b)) #example"
      ],
      "metadata": {
        "colab": {
          "base_uri": "https://localhost:8080/"
        },
        "id": "eRHkTjyuOe-n",
        "outputId": "a2247e16-8358-4b87-d426-eaa98274c5b6"
      },
      "execution_count": null,
      "outputs": [
        {
          "output_type": "stream",
          "name": "stdout",
          "text": [
            "And operator: False\n",
            "Or operator: True\n",
            "and operator: False\n",
            "or operator: True\n"
          ]
        }
      ]
    },
    {
      "cell_type": "code",
      "source": [],
      "metadata": {
        "id": "tFXFnLXYPnPj"
      },
      "execution_count": null,
      "outputs": []
    }
  ]
}